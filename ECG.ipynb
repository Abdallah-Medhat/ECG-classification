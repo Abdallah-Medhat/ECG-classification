{
  "cells": [
    {
      "cell_type": "markdown",
      "metadata": {
        "id": "1c7Edo_5Xv-y"
      },
      "source": [
        "# import libries"
      ]
    },
    {
      "cell_type": "code",
      "execution_count": null,
      "metadata": {
        "id": "n-Qa3DQ5Xv-3"
      },
      "outputs": [],
      "source": [
        "import pandas as pd\n",
        "import numpy as np\n",
        "import re\n",
        "import matplotlib.pyplot as plt\n",
        "from sklearn.model_selection import train_test_split\n",
        "from sklearn.metrics import f1_score,accuracy_score,classification_report,confusion_matrix,plot_confusion_matrix,ConfusionMatrixDisplay\n",
        "from imblearn.over_sampling import SMOTE\n",
        "from catboost import CatBoostClassifier\n",
        "pd.set_option('display.max_rows', None)\n",
        "import warnings\n",
        "warnings.filterwarnings('ignore')"
      ]
    },
    {
      "cell_type": "markdown",
      "metadata": {
        "id": "5vaiui42Xv-5"
      },
      "source": [
        "# reading data"
      ]
    },
    {
      "cell_type": "code",
      "execution_count": null,
      "metadata": {
        "id": "q3ye6OR3Xv-6"
      },
      "outputs": [],
      "source": [
        "df_train=pd.read_csv(\"D:/studies/depi/ottawa/gp/resource/dataset/mitbih_train.csv\", header=None)\n",
        "df_test=pd.read_csv(\"D:/studies/depi/ottawa/gp/resource/dataset/mitbih_test.csv\", header=None)"
      ]
    },
    {
      "cell_type": "markdown",
      "metadata": {
        "id": "ef_m3Yf7Xv-7"
      },
      "source": [
        "# show data training and testing"
      ]
    },
    {
      "cell_type": "code",
      "execution_count": null,
      "metadata": {
        "id": "9S0VTjKyXv-7",
        "outputId": "05a132ec-1ca7-4a78-d2c1-d28094d28a81"
      },
      "outputs": [
        {
          "data": {
            "text/html": [
              "<div>\n",
              "<style scoped>\n",
              "    .dataframe tbody tr th:only-of-type {\n",
              "        vertical-align: middle;\n",
              "    }\n",
              "\n",
              "    .dataframe tbody tr th {\n",
              "        vertical-align: top;\n",
              "    }\n",
              "\n",
              "    .dataframe thead th {\n",
              "        text-align: right;\n",
              "    }\n",
              "</style>\n",
              "<table border=\"1\" class=\"dataframe\">\n",
              "  <thead>\n",
              "    <tr style=\"text-align: right;\">\n",
              "      <th></th>\n",
              "      <th>0</th>\n",
              "      <th>1</th>\n",
              "      <th>2</th>\n",
              "      <th>3</th>\n",
              "      <th>4</th>\n",
              "      <th>5</th>\n",
              "      <th>6</th>\n",
              "      <th>7</th>\n",
              "      <th>8</th>\n",
              "      <th>9</th>\n",
              "      <th>...</th>\n",
              "      <th>178</th>\n",
              "      <th>179</th>\n",
              "      <th>180</th>\n",
              "      <th>181</th>\n",
              "      <th>182</th>\n",
              "      <th>183</th>\n",
              "      <th>184</th>\n",
              "      <th>185</th>\n",
              "      <th>186</th>\n",
              "      <th>187</th>\n",
              "    </tr>\n",
              "  </thead>\n",
              "  <tbody>\n",
              "    <tr>\n",
              "      <th>0</th>\n",
              "      <td>0.977941</td>\n",
              "      <td>0.926471</td>\n",
              "      <td>0.681373</td>\n",
              "      <td>0.245098</td>\n",
              "      <td>0.154412</td>\n",
              "      <td>0.191176</td>\n",
              "      <td>0.151961</td>\n",
              "      <td>0.085784</td>\n",
              "      <td>0.058824</td>\n",
              "      <td>0.049020</td>\n",
              "      <td>...</td>\n",
              "      <td>0.0</td>\n",
              "      <td>0.0</td>\n",
              "      <td>0.0</td>\n",
              "      <td>0.0</td>\n",
              "      <td>0.0</td>\n",
              "      <td>0.0</td>\n",
              "      <td>0.0</td>\n",
              "      <td>0.0</td>\n",
              "      <td>0.0</td>\n",
              "      <td>0.0</td>\n",
              "    </tr>\n",
              "    <tr>\n",
              "      <th>1</th>\n",
              "      <td>0.960114</td>\n",
              "      <td>0.863248</td>\n",
              "      <td>0.461538</td>\n",
              "      <td>0.196581</td>\n",
              "      <td>0.094017</td>\n",
              "      <td>0.125356</td>\n",
              "      <td>0.099715</td>\n",
              "      <td>0.088319</td>\n",
              "      <td>0.074074</td>\n",
              "      <td>0.082621</td>\n",
              "      <td>...</td>\n",
              "      <td>0.0</td>\n",
              "      <td>0.0</td>\n",
              "      <td>0.0</td>\n",
              "      <td>0.0</td>\n",
              "      <td>0.0</td>\n",
              "      <td>0.0</td>\n",
              "      <td>0.0</td>\n",
              "      <td>0.0</td>\n",
              "      <td>0.0</td>\n",
              "      <td>0.0</td>\n",
              "    </tr>\n",
              "    <tr>\n",
              "      <th>2</th>\n",
              "      <td>1.000000</td>\n",
              "      <td>0.659459</td>\n",
              "      <td>0.186486</td>\n",
              "      <td>0.070270</td>\n",
              "      <td>0.070270</td>\n",
              "      <td>0.059459</td>\n",
              "      <td>0.056757</td>\n",
              "      <td>0.043243</td>\n",
              "      <td>0.054054</td>\n",
              "      <td>0.045946</td>\n",
              "      <td>...</td>\n",
              "      <td>0.0</td>\n",
              "      <td>0.0</td>\n",
              "      <td>0.0</td>\n",
              "      <td>0.0</td>\n",
              "      <td>0.0</td>\n",
              "      <td>0.0</td>\n",
              "      <td>0.0</td>\n",
              "      <td>0.0</td>\n",
              "      <td>0.0</td>\n",
              "      <td>0.0</td>\n",
              "    </tr>\n",
              "    <tr>\n",
              "      <th>3</th>\n",
              "      <td>0.925414</td>\n",
              "      <td>0.665746</td>\n",
              "      <td>0.541436</td>\n",
              "      <td>0.276243</td>\n",
              "      <td>0.196133</td>\n",
              "      <td>0.077348</td>\n",
              "      <td>0.071823</td>\n",
              "      <td>0.060773</td>\n",
              "      <td>0.066298</td>\n",
              "      <td>0.058011</td>\n",
              "      <td>...</td>\n",
              "      <td>0.0</td>\n",
              "      <td>0.0</td>\n",
              "      <td>0.0</td>\n",
              "      <td>0.0</td>\n",
              "      <td>0.0</td>\n",
              "      <td>0.0</td>\n",
              "      <td>0.0</td>\n",
              "      <td>0.0</td>\n",
              "      <td>0.0</td>\n",
              "      <td>0.0</td>\n",
              "    </tr>\n",
              "    <tr>\n",
              "      <th>4</th>\n",
              "      <td>0.967136</td>\n",
              "      <td>1.000000</td>\n",
              "      <td>0.830986</td>\n",
              "      <td>0.586854</td>\n",
              "      <td>0.356808</td>\n",
              "      <td>0.248826</td>\n",
              "      <td>0.145540</td>\n",
              "      <td>0.089202</td>\n",
              "      <td>0.117371</td>\n",
              "      <td>0.150235</td>\n",
              "      <td>...</td>\n",
              "      <td>0.0</td>\n",
              "      <td>0.0</td>\n",
              "      <td>0.0</td>\n",
              "      <td>0.0</td>\n",
              "      <td>0.0</td>\n",
              "      <td>0.0</td>\n",
              "      <td>0.0</td>\n",
              "      <td>0.0</td>\n",
              "      <td>0.0</td>\n",
              "      <td>0.0</td>\n",
              "    </tr>\n",
              "    <tr>\n",
              "      <th>...</th>\n",
              "      <td>...</td>\n",
              "      <td>...</td>\n",
              "      <td>...</td>\n",
              "      <td>...</td>\n",
              "      <td>...</td>\n",
              "      <td>...</td>\n",
              "      <td>...</td>\n",
              "      <td>...</td>\n",
              "      <td>...</td>\n",
              "      <td>...</td>\n",
              "      <td>...</td>\n",
              "      <td>...</td>\n",
              "      <td>...</td>\n",
              "      <td>...</td>\n",
              "      <td>...</td>\n",
              "      <td>...</td>\n",
              "      <td>...</td>\n",
              "      <td>...</td>\n",
              "      <td>...</td>\n",
              "      <td>...</td>\n",
              "      <td>...</td>\n",
              "    </tr>\n",
              "    <tr>\n",
              "      <th>87549</th>\n",
              "      <td>0.807018</td>\n",
              "      <td>0.494737</td>\n",
              "      <td>0.536842</td>\n",
              "      <td>0.529825</td>\n",
              "      <td>0.491228</td>\n",
              "      <td>0.484211</td>\n",
              "      <td>0.456140</td>\n",
              "      <td>0.396491</td>\n",
              "      <td>0.284211</td>\n",
              "      <td>0.136842</td>\n",
              "      <td>...</td>\n",
              "      <td>0.0</td>\n",
              "      <td>0.0</td>\n",
              "      <td>0.0</td>\n",
              "      <td>0.0</td>\n",
              "      <td>0.0</td>\n",
              "      <td>0.0</td>\n",
              "      <td>0.0</td>\n",
              "      <td>0.0</td>\n",
              "      <td>0.0</td>\n",
              "      <td>4.0</td>\n",
              "    </tr>\n",
              "    <tr>\n",
              "      <th>87550</th>\n",
              "      <td>0.718333</td>\n",
              "      <td>0.605000</td>\n",
              "      <td>0.486667</td>\n",
              "      <td>0.361667</td>\n",
              "      <td>0.231667</td>\n",
              "      <td>0.120000</td>\n",
              "      <td>0.051667</td>\n",
              "      <td>0.001667</td>\n",
              "      <td>0.000000</td>\n",
              "      <td>0.013333</td>\n",
              "      <td>...</td>\n",
              "      <td>0.0</td>\n",
              "      <td>0.0</td>\n",
              "      <td>0.0</td>\n",
              "      <td>0.0</td>\n",
              "      <td>0.0</td>\n",
              "      <td>0.0</td>\n",
              "      <td>0.0</td>\n",
              "      <td>0.0</td>\n",
              "      <td>0.0</td>\n",
              "      <td>4.0</td>\n",
              "    </tr>\n",
              "    <tr>\n",
              "      <th>87551</th>\n",
              "      <td>0.906122</td>\n",
              "      <td>0.624490</td>\n",
              "      <td>0.595918</td>\n",
              "      <td>0.575510</td>\n",
              "      <td>0.530612</td>\n",
              "      <td>0.481633</td>\n",
              "      <td>0.444898</td>\n",
              "      <td>0.387755</td>\n",
              "      <td>0.322449</td>\n",
              "      <td>0.191837</td>\n",
              "      <td>...</td>\n",
              "      <td>0.0</td>\n",
              "      <td>0.0</td>\n",
              "      <td>0.0</td>\n",
              "      <td>0.0</td>\n",
              "      <td>0.0</td>\n",
              "      <td>0.0</td>\n",
              "      <td>0.0</td>\n",
              "      <td>0.0</td>\n",
              "      <td>0.0</td>\n",
              "      <td>4.0</td>\n",
              "    </tr>\n",
              "    <tr>\n",
              "      <th>87552</th>\n",
              "      <td>0.858228</td>\n",
              "      <td>0.645570</td>\n",
              "      <td>0.845570</td>\n",
              "      <td>0.248101</td>\n",
              "      <td>0.167089</td>\n",
              "      <td>0.131646</td>\n",
              "      <td>0.121519</td>\n",
              "      <td>0.121519</td>\n",
              "      <td>0.118987</td>\n",
              "      <td>0.103797</td>\n",
              "      <td>...</td>\n",
              "      <td>0.0</td>\n",
              "      <td>0.0</td>\n",
              "      <td>0.0</td>\n",
              "      <td>0.0</td>\n",
              "      <td>0.0</td>\n",
              "      <td>0.0</td>\n",
              "      <td>0.0</td>\n",
              "      <td>0.0</td>\n",
              "      <td>0.0</td>\n",
              "      <td>4.0</td>\n",
              "    </tr>\n",
              "    <tr>\n",
              "      <th>87553</th>\n",
              "      <td>0.901506</td>\n",
              "      <td>0.845886</td>\n",
              "      <td>0.800695</td>\n",
              "      <td>0.748552</td>\n",
              "      <td>0.687138</td>\n",
              "      <td>0.599073</td>\n",
              "      <td>0.512167</td>\n",
              "      <td>0.427578</td>\n",
              "      <td>0.395133</td>\n",
              "      <td>0.402086</td>\n",
              "      <td>...</td>\n",
              "      <td>0.0</td>\n",
              "      <td>0.0</td>\n",
              "      <td>0.0</td>\n",
              "      <td>0.0</td>\n",
              "      <td>0.0</td>\n",
              "      <td>0.0</td>\n",
              "      <td>0.0</td>\n",
              "      <td>0.0</td>\n",
              "      <td>0.0</td>\n",
              "      <td>4.0</td>\n",
              "    </tr>\n",
              "  </tbody>\n",
              "</table>\n",
              "<p>87554 rows × 188 columns</p>\n",
              "</div>"
            ],
            "text/plain": [
              "            0         1         2         3         4         5         6    \\\n",
              "0      0.977941  0.926471  0.681373  0.245098  0.154412  0.191176  0.151961   \n",
              "1      0.960114  0.863248  0.461538  0.196581  0.094017  0.125356  0.099715   \n",
              "2      1.000000  0.659459  0.186486  0.070270  0.070270  0.059459  0.056757   \n",
              "3      0.925414  0.665746  0.541436  0.276243  0.196133  0.077348  0.071823   \n",
              "4      0.967136  1.000000  0.830986  0.586854  0.356808  0.248826  0.145540   \n",
              "...         ...       ...       ...       ...       ...       ...       ...   \n",
              "87549  0.807018  0.494737  0.536842  0.529825  0.491228  0.484211  0.456140   \n",
              "87550  0.718333  0.605000  0.486667  0.361667  0.231667  0.120000  0.051667   \n",
              "87551  0.906122  0.624490  0.595918  0.575510  0.530612  0.481633  0.444898   \n",
              "87552  0.858228  0.645570  0.845570  0.248101  0.167089  0.131646  0.121519   \n",
              "87553  0.901506  0.845886  0.800695  0.748552  0.687138  0.599073  0.512167   \n",
              "\n",
              "            7         8         9    ...  178  179  180  181  182  183  184  \\\n",
              "0      0.085784  0.058824  0.049020  ...  0.0  0.0  0.0  0.0  0.0  0.0  0.0   \n",
              "1      0.088319  0.074074  0.082621  ...  0.0  0.0  0.0  0.0  0.0  0.0  0.0   \n",
              "2      0.043243  0.054054  0.045946  ...  0.0  0.0  0.0  0.0  0.0  0.0  0.0   \n",
              "3      0.060773  0.066298  0.058011  ...  0.0  0.0  0.0  0.0  0.0  0.0  0.0   \n",
              "4      0.089202  0.117371  0.150235  ...  0.0  0.0  0.0  0.0  0.0  0.0  0.0   \n",
              "...         ...       ...       ...  ...  ...  ...  ...  ...  ...  ...  ...   \n",
              "87549  0.396491  0.284211  0.136842  ...  0.0  0.0  0.0  0.0  0.0  0.0  0.0   \n",
              "87550  0.001667  0.000000  0.013333  ...  0.0  0.0  0.0  0.0  0.0  0.0  0.0   \n",
              "87551  0.387755  0.322449  0.191837  ...  0.0  0.0  0.0  0.0  0.0  0.0  0.0   \n",
              "87552  0.121519  0.118987  0.103797  ...  0.0  0.0  0.0  0.0  0.0  0.0  0.0   \n",
              "87553  0.427578  0.395133  0.402086  ...  0.0  0.0  0.0  0.0  0.0  0.0  0.0   \n",
              "\n",
              "       185  186  187  \n",
              "0      0.0  0.0  0.0  \n",
              "1      0.0  0.0  0.0  \n",
              "2      0.0  0.0  0.0  \n",
              "3      0.0  0.0  0.0  \n",
              "4      0.0  0.0  0.0  \n",
              "...    ...  ...  ...  \n",
              "87549  0.0  0.0  4.0  \n",
              "87550  0.0  0.0  4.0  \n",
              "87551  0.0  0.0  4.0  \n",
              "87552  0.0  0.0  4.0  \n",
              "87553  0.0  0.0  4.0  \n",
              "\n",
              "[87554 rows x 188 columns]"
            ]
          },
          "execution_count": 3,
          "metadata": {},
          "output_type": "execute_result"
        }
      ],
      "source": [
        "df_train"
      ]
    },
    {
      "cell_type": "code",
      "execution_count": null,
      "metadata": {
        "id": "Tk2Y8qrNXv-8",
        "outputId": "211ef2de-5d15-4dda-d1f4-1e436301e615"
      },
      "outputs": [
        {
          "data": {
            "text/html": [
              "<div>\n",
              "<style scoped>\n",
              "    .dataframe tbody tr th:only-of-type {\n",
              "        vertical-align: middle;\n",
              "    }\n",
              "\n",
              "    .dataframe tbody tr th {\n",
              "        vertical-align: top;\n",
              "    }\n",
              "\n",
              "    .dataframe thead th {\n",
              "        text-align: right;\n",
              "    }\n",
              "</style>\n",
              "<table border=\"1\" class=\"dataframe\">\n",
              "  <thead>\n",
              "    <tr style=\"text-align: right;\">\n",
              "      <th></th>\n",
              "      <th>0</th>\n",
              "      <th>1</th>\n",
              "      <th>2</th>\n",
              "      <th>3</th>\n",
              "      <th>4</th>\n",
              "      <th>5</th>\n",
              "      <th>6</th>\n",
              "      <th>7</th>\n",
              "      <th>8</th>\n",
              "      <th>9</th>\n",
              "      <th>...</th>\n",
              "      <th>178</th>\n",
              "      <th>179</th>\n",
              "      <th>180</th>\n",
              "      <th>181</th>\n",
              "      <th>182</th>\n",
              "      <th>183</th>\n",
              "      <th>184</th>\n",
              "      <th>185</th>\n",
              "      <th>186</th>\n",
              "      <th>187</th>\n",
              "    </tr>\n",
              "  </thead>\n",
              "  <tbody>\n",
              "    <tr>\n",
              "      <th>0</th>\n",
              "      <td>1.000000</td>\n",
              "      <td>0.758264</td>\n",
              "      <td>0.111570</td>\n",
              "      <td>0.000000</td>\n",
              "      <td>0.080579</td>\n",
              "      <td>0.078512</td>\n",
              "      <td>0.066116</td>\n",
              "      <td>0.049587</td>\n",
              "      <td>0.047521</td>\n",
              "      <td>0.035124</td>\n",
              "      <td>...</td>\n",
              "      <td>0.0</td>\n",
              "      <td>0.0</td>\n",
              "      <td>0.0</td>\n",
              "      <td>0.0</td>\n",
              "      <td>0.0</td>\n",
              "      <td>0.0</td>\n",
              "      <td>0.0</td>\n",
              "      <td>0.0</td>\n",
              "      <td>0.0</td>\n",
              "      <td>0.0</td>\n",
              "    </tr>\n",
              "    <tr>\n",
              "      <th>1</th>\n",
              "      <td>0.908425</td>\n",
              "      <td>0.783883</td>\n",
              "      <td>0.531136</td>\n",
              "      <td>0.362637</td>\n",
              "      <td>0.366300</td>\n",
              "      <td>0.344322</td>\n",
              "      <td>0.333333</td>\n",
              "      <td>0.307692</td>\n",
              "      <td>0.296703</td>\n",
              "      <td>0.300366</td>\n",
              "      <td>...</td>\n",
              "      <td>0.0</td>\n",
              "      <td>0.0</td>\n",
              "      <td>0.0</td>\n",
              "      <td>0.0</td>\n",
              "      <td>0.0</td>\n",
              "      <td>0.0</td>\n",
              "      <td>0.0</td>\n",
              "      <td>0.0</td>\n",
              "      <td>0.0</td>\n",
              "      <td>0.0</td>\n",
              "    </tr>\n",
              "    <tr>\n",
              "      <th>2</th>\n",
              "      <td>0.730088</td>\n",
              "      <td>0.212389</td>\n",
              "      <td>0.000000</td>\n",
              "      <td>0.119469</td>\n",
              "      <td>0.101770</td>\n",
              "      <td>0.101770</td>\n",
              "      <td>0.110619</td>\n",
              "      <td>0.123894</td>\n",
              "      <td>0.115044</td>\n",
              "      <td>0.132743</td>\n",
              "      <td>...</td>\n",
              "      <td>0.0</td>\n",
              "      <td>0.0</td>\n",
              "      <td>0.0</td>\n",
              "      <td>0.0</td>\n",
              "      <td>0.0</td>\n",
              "      <td>0.0</td>\n",
              "      <td>0.0</td>\n",
              "      <td>0.0</td>\n",
              "      <td>0.0</td>\n",
              "      <td>0.0</td>\n",
              "    </tr>\n",
              "    <tr>\n",
              "      <th>3</th>\n",
              "      <td>1.000000</td>\n",
              "      <td>0.910417</td>\n",
              "      <td>0.681250</td>\n",
              "      <td>0.472917</td>\n",
              "      <td>0.229167</td>\n",
              "      <td>0.068750</td>\n",
              "      <td>0.000000</td>\n",
              "      <td>0.004167</td>\n",
              "      <td>0.014583</td>\n",
              "      <td>0.054167</td>\n",
              "      <td>...</td>\n",
              "      <td>0.0</td>\n",
              "      <td>0.0</td>\n",
              "      <td>0.0</td>\n",
              "      <td>0.0</td>\n",
              "      <td>0.0</td>\n",
              "      <td>0.0</td>\n",
              "      <td>0.0</td>\n",
              "      <td>0.0</td>\n",
              "      <td>0.0</td>\n",
              "      <td>0.0</td>\n",
              "    </tr>\n",
              "    <tr>\n",
              "      <th>4</th>\n",
              "      <td>0.570470</td>\n",
              "      <td>0.399329</td>\n",
              "      <td>0.238255</td>\n",
              "      <td>0.147651</td>\n",
              "      <td>0.000000</td>\n",
              "      <td>0.003356</td>\n",
              "      <td>0.040268</td>\n",
              "      <td>0.080537</td>\n",
              "      <td>0.070470</td>\n",
              "      <td>0.090604</td>\n",
              "      <td>...</td>\n",
              "      <td>0.0</td>\n",
              "      <td>0.0</td>\n",
              "      <td>0.0</td>\n",
              "      <td>0.0</td>\n",
              "      <td>0.0</td>\n",
              "      <td>0.0</td>\n",
              "      <td>0.0</td>\n",
              "      <td>0.0</td>\n",
              "      <td>0.0</td>\n",
              "      <td>0.0</td>\n",
              "    </tr>\n",
              "    <tr>\n",
              "      <th>...</th>\n",
              "      <td>...</td>\n",
              "      <td>...</td>\n",
              "      <td>...</td>\n",
              "      <td>...</td>\n",
              "      <td>...</td>\n",
              "      <td>...</td>\n",
              "      <td>...</td>\n",
              "      <td>...</td>\n",
              "      <td>...</td>\n",
              "      <td>...</td>\n",
              "      <td>...</td>\n",
              "      <td>...</td>\n",
              "      <td>...</td>\n",
              "      <td>...</td>\n",
              "      <td>...</td>\n",
              "      <td>...</td>\n",
              "      <td>...</td>\n",
              "      <td>...</td>\n",
              "      <td>...</td>\n",
              "      <td>...</td>\n",
              "      <td>...</td>\n",
              "    </tr>\n",
              "    <tr>\n",
              "      <th>21887</th>\n",
              "      <td>0.928736</td>\n",
              "      <td>0.871264</td>\n",
              "      <td>0.804598</td>\n",
              "      <td>0.742529</td>\n",
              "      <td>0.650575</td>\n",
              "      <td>0.535632</td>\n",
              "      <td>0.394253</td>\n",
              "      <td>0.250575</td>\n",
              "      <td>0.140230</td>\n",
              "      <td>0.102299</td>\n",
              "      <td>...</td>\n",
              "      <td>0.0</td>\n",
              "      <td>0.0</td>\n",
              "      <td>0.0</td>\n",
              "      <td>0.0</td>\n",
              "      <td>0.0</td>\n",
              "      <td>0.0</td>\n",
              "      <td>0.0</td>\n",
              "      <td>0.0</td>\n",
              "      <td>0.0</td>\n",
              "      <td>4.0</td>\n",
              "    </tr>\n",
              "    <tr>\n",
              "      <th>21888</th>\n",
              "      <td>0.802691</td>\n",
              "      <td>0.692078</td>\n",
              "      <td>0.587444</td>\n",
              "      <td>0.446936</td>\n",
              "      <td>0.318386</td>\n",
              "      <td>0.189836</td>\n",
              "      <td>0.118087</td>\n",
              "      <td>0.077728</td>\n",
              "      <td>0.112108</td>\n",
              "      <td>0.152466</td>\n",
              "      <td>...</td>\n",
              "      <td>0.0</td>\n",
              "      <td>0.0</td>\n",
              "      <td>0.0</td>\n",
              "      <td>0.0</td>\n",
              "      <td>0.0</td>\n",
              "      <td>0.0</td>\n",
              "      <td>0.0</td>\n",
              "      <td>0.0</td>\n",
              "      <td>0.0</td>\n",
              "      <td>4.0</td>\n",
              "    </tr>\n",
              "    <tr>\n",
              "      <th>21889</th>\n",
              "      <td>1.000000</td>\n",
              "      <td>0.967359</td>\n",
              "      <td>0.620178</td>\n",
              "      <td>0.347181</td>\n",
              "      <td>0.139466</td>\n",
              "      <td>0.089021</td>\n",
              "      <td>0.103858</td>\n",
              "      <td>0.100890</td>\n",
              "      <td>0.106825</td>\n",
              "      <td>0.100890</td>\n",
              "      <td>...</td>\n",
              "      <td>0.0</td>\n",
              "      <td>0.0</td>\n",
              "      <td>0.0</td>\n",
              "      <td>0.0</td>\n",
              "      <td>0.0</td>\n",
              "      <td>0.0</td>\n",
              "      <td>0.0</td>\n",
              "      <td>0.0</td>\n",
              "      <td>0.0</td>\n",
              "      <td>4.0</td>\n",
              "    </tr>\n",
              "    <tr>\n",
              "      <th>21890</th>\n",
              "      <td>0.984127</td>\n",
              "      <td>0.567460</td>\n",
              "      <td>0.607143</td>\n",
              "      <td>0.583333</td>\n",
              "      <td>0.607143</td>\n",
              "      <td>0.575397</td>\n",
              "      <td>0.575397</td>\n",
              "      <td>0.488095</td>\n",
              "      <td>0.392857</td>\n",
              "      <td>0.238095</td>\n",
              "      <td>...</td>\n",
              "      <td>0.0</td>\n",
              "      <td>0.0</td>\n",
              "      <td>0.0</td>\n",
              "      <td>0.0</td>\n",
              "      <td>0.0</td>\n",
              "      <td>0.0</td>\n",
              "      <td>0.0</td>\n",
              "      <td>0.0</td>\n",
              "      <td>0.0</td>\n",
              "      <td>4.0</td>\n",
              "    </tr>\n",
              "    <tr>\n",
              "      <th>21891</th>\n",
              "      <td>0.973970</td>\n",
              "      <td>0.913232</td>\n",
              "      <td>0.865510</td>\n",
              "      <td>0.823210</td>\n",
              "      <td>0.746204</td>\n",
              "      <td>0.642082</td>\n",
              "      <td>0.547722</td>\n",
              "      <td>0.426247</td>\n",
              "      <td>0.325380</td>\n",
              "      <td>0.279826</td>\n",
              "      <td>...</td>\n",
              "      <td>0.0</td>\n",
              "      <td>0.0</td>\n",
              "      <td>0.0</td>\n",
              "      <td>0.0</td>\n",
              "      <td>0.0</td>\n",
              "      <td>0.0</td>\n",
              "      <td>0.0</td>\n",
              "      <td>0.0</td>\n",
              "      <td>0.0</td>\n",
              "      <td>4.0</td>\n",
              "    </tr>\n",
              "  </tbody>\n",
              "</table>\n",
              "<p>21892 rows × 188 columns</p>\n",
              "</div>"
            ],
            "text/plain": [
              "            0         1         2         3         4         5         6    \\\n",
              "0      1.000000  0.758264  0.111570  0.000000  0.080579  0.078512  0.066116   \n",
              "1      0.908425  0.783883  0.531136  0.362637  0.366300  0.344322  0.333333   \n",
              "2      0.730088  0.212389  0.000000  0.119469  0.101770  0.101770  0.110619   \n",
              "3      1.000000  0.910417  0.681250  0.472917  0.229167  0.068750  0.000000   \n",
              "4      0.570470  0.399329  0.238255  0.147651  0.000000  0.003356  0.040268   \n",
              "...         ...       ...       ...       ...       ...       ...       ...   \n",
              "21887  0.928736  0.871264  0.804598  0.742529  0.650575  0.535632  0.394253   \n",
              "21888  0.802691  0.692078  0.587444  0.446936  0.318386  0.189836  0.118087   \n",
              "21889  1.000000  0.967359  0.620178  0.347181  0.139466  0.089021  0.103858   \n",
              "21890  0.984127  0.567460  0.607143  0.583333  0.607143  0.575397  0.575397   \n",
              "21891  0.973970  0.913232  0.865510  0.823210  0.746204  0.642082  0.547722   \n",
              "\n",
              "            7         8         9    ...  178  179  180  181  182  183  184  \\\n",
              "0      0.049587  0.047521  0.035124  ...  0.0  0.0  0.0  0.0  0.0  0.0  0.0   \n",
              "1      0.307692  0.296703  0.300366  ...  0.0  0.0  0.0  0.0  0.0  0.0  0.0   \n",
              "2      0.123894  0.115044  0.132743  ...  0.0  0.0  0.0  0.0  0.0  0.0  0.0   \n",
              "3      0.004167  0.014583  0.054167  ...  0.0  0.0  0.0  0.0  0.0  0.0  0.0   \n",
              "4      0.080537  0.070470  0.090604  ...  0.0  0.0  0.0  0.0  0.0  0.0  0.0   \n",
              "...         ...       ...       ...  ...  ...  ...  ...  ...  ...  ...  ...   \n",
              "21887  0.250575  0.140230  0.102299  ...  0.0  0.0  0.0  0.0  0.0  0.0  0.0   \n",
              "21888  0.077728  0.112108  0.152466  ...  0.0  0.0  0.0  0.0  0.0  0.0  0.0   \n",
              "21889  0.100890  0.106825  0.100890  ...  0.0  0.0  0.0  0.0  0.0  0.0  0.0   \n",
              "21890  0.488095  0.392857  0.238095  ...  0.0  0.0  0.0  0.0  0.0  0.0  0.0   \n",
              "21891  0.426247  0.325380  0.279826  ...  0.0  0.0  0.0  0.0  0.0  0.0  0.0   \n",
              "\n",
              "       185  186  187  \n",
              "0      0.0  0.0  0.0  \n",
              "1      0.0  0.0  0.0  \n",
              "2      0.0  0.0  0.0  \n",
              "3      0.0  0.0  0.0  \n",
              "4      0.0  0.0  0.0  \n",
              "...    ...  ...  ...  \n",
              "21887  0.0  0.0  4.0  \n",
              "21888  0.0  0.0  4.0  \n",
              "21889  0.0  0.0  4.0  \n",
              "21890  0.0  0.0  4.0  \n",
              "21891  0.0  0.0  4.0  \n",
              "\n",
              "[21892 rows x 188 columns]"
            ]
          },
          "execution_count": 4,
          "metadata": {},
          "output_type": "execute_result"
        }
      ],
      "source": [
        "df_test"
      ]
    },
    {
      "cell_type": "code",
      "execution_count": null,
      "metadata": {
        "id": "0y00YCViXv-9",
        "outputId": "0cf68353-de83-4a5b-9334-fbeb0938717a"
      },
      "outputs": [
        {
          "name": "stdout",
          "output_type": "stream",
          "text": [
            "shape of training data (87554, 188)\n",
            "shape of testing data  (21892, 188)\n"
          ]
        }
      ],
      "source": [
        "#shape of data\n",
        "print(\"shape of training data\",df_train.shape)\n",
        "print(\"shape of testing data \",df_test.shape)"
      ]
    },
    {
      "cell_type": "code",
      "execution_count": null,
      "metadata": {
        "id": "d4jlKsgAXv-9",
        "outputId": "6c0cecc3-f720-428f-9d64-e6aa2d487484"
      },
      "outputs": [
        {
          "name": "stdout",
          "output_type": "stream",
          "text": [
            "<class 'pandas.core.frame.DataFrame'>\n",
            "RangeIndex: 87554 entries, 0 to 87553\n",
            "Columns: 188 entries, 0 to 187\n",
            "dtypes: float64(188)\n",
            "memory usage: 125.6 MB\n"
          ]
        }
      ],
      "source": [
        "#getting info about training data\n",
        "df_train.info()"
      ]
    },
    {
      "cell_type": "code",
      "execution_count": null,
      "metadata": {
        "id": "P6kHGEgSXv--",
        "outputId": "5b19649f-096b-44af-f34e-51856312b8b9"
      },
      "outputs": [
        {
          "name": "stdout",
          "output_type": "stream",
          "text": [
            "<class 'pandas.core.frame.DataFrame'>\n",
            "RangeIndex: 21892 entries, 0 to 21891\n",
            "Columns: 188 entries, 0 to 187\n",
            "dtypes: float64(188)\n",
            "memory usage: 31.4 MB\n"
          ]
        }
      ],
      "source": [
        "#getting info about testing data\n",
        "df_test.info()"
      ]
    },
    {
      "cell_type": "markdown",
      "metadata": {
        "id": "t4T6JCSbXv--"
      },
      "source": [
        "classes\n",
        "N : Normal\n",
        "S : Supraventricular premature beat\n",
        "V : Premature ventricular contraction\n",
        "F : Fusion of ventricular and normal beat\n",
        "Q : Unclassifiable beat"
      ]
    },
    {
      "cell_type": "markdown",
      "metadata": {
        "id": "J1_7LkpxXv--"
      },
      "source": [
        "Classes:['N':0,'s':1,'v':2,'f':3 ,'Q':4]"
      ]
    },
    {
      "cell_type": "markdown",
      "metadata": {
        "id": "uoTQqUYlXv-_"
      },
      "source": [
        "# Data analysis and Data visualization"
      ]
    },
    {
      "cell_type": "code",
      "execution_count": null,
      "metadata": {
        "id": "rF05aRMZXv-_",
        "outputId": "6932255e-2630-4351-ff8e-fe10149f3a7a"
      },
      "outputs": [
        {
          "data": {
            "text/plain": [
              "0      0\n",
              "1      0\n",
              "2      0\n",
              "3      0\n",
              "4      0\n",
              "      ..\n",
              "183    0\n",
              "184    0\n",
              "185    0\n",
              "186    0\n",
              "187    0\n",
              "Length: 188, dtype: int64"
            ]
          },
          "execution_count": 8,
          "metadata": {},
          "output_type": "execute_result"
        }
      ],
      "source": [
        "#check the null in train data\n",
        "df_train.isnull().sum()"
      ]
    },
    {
      "cell_type": "code",
      "execution_count": null,
      "metadata": {
        "id": "x0TtjuWxXv-_",
        "outputId": "f72e5a38-7405-47c1-8ae7-7fbbf60bf13f"
      },
      "outputs": [
        {
          "data": {
            "text/plain": [
              "0      0\n",
              "1      0\n",
              "2      0\n",
              "3      0\n",
              "4      0\n",
              "      ..\n",
              "183    0\n",
              "184    0\n",
              "185    0\n",
              "186    0\n",
              "187    0\n",
              "Length: 188, dtype: int64"
            ]
          },
          "execution_count": 9,
          "metadata": {},
          "output_type": "execute_result"
        }
      ],
      "source": [
        "#check the null in test data\n",
        "df_test.isnull().sum()"
      ]
    },
    {
      "cell_type": "code",
      "execution_count": null,
      "metadata": {
        "id": "KNPIkkfSXv_A",
        "outputId": "5e06541e-7685-4e11-f254-acfc1deeb2ee"
      },
      "outputs": [
        {
          "data": {
            "text/html": [
              "<div>\n",
              "<style scoped>\n",
              "    .dataframe tbody tr th:only-of-type {\n",
              "        vertical-align: middle;\n",
              "    }\n",
              "\n",
              "    .dataframe tbody tr th {\n",
              "        vertical-align: top;\n",
              "    }\n",
              "\n",
              "    .dataframe thead th {\n",
              "        text-align: right;\n",
              "    }\n",
              "</style>\n",
              "<table border=\"1\" class=\"dataframe\">\n",
              "  <thead>\n",
              "    <tr style=\"text-align: right;\">\n",
              "      <th></th>\n",
              "      <th>0</th>\n",
              "      <th>1</th>\n",
              "      <th>2</th>\n",
              "      <th>3</th>\n",
              "      <th>4</th>\n",
              "      <th>5</th>\n",
              "      <th>6</th>\n",
              "      <th>7</th>\n",
              "      <th>8</th>\n",
              "      <th>9</th>\n",
              "      <th>...</th>\n",
              "      <th>178</th>\n",
              "      <th>179</th>\n",
              "      <th>180</th>\n",
              "      <th>181</th>\n",
              "      <th>182</th>\n",
              "      <th>183</th>\n",
              "      <th>184</th>\n",
              "      <th>185</th>\n",
              "      <th>186</th>\n",
              "      <th>187</th>\n",
              "    </tr>\n",
              "  </thead>\n",
              "  <tbody>\n",
              "    <tr>\n",
              "      <th>0</th>\n",
              "      <td>False</td>\n",
              "      <td>False</td>\n",
              "      <td>False</td>\n",
              "      <td>False</td>\n",
              "      <td>False</td>\n",
              "      <td>False</td>\n",
              "      <td>False</td>\n",
              "      <td>False</td>\n",
              "      <td>False</td>\n",
              "      <td>False</td>\n",
              "      <td>...</td>\n",
              "      <td>False</td>\n",
              "      <td>False</td>\n",
              "      <td>False</td>\n",
              "      <td>False</td>\n",
              "      <td>False</td>\n",
              "      <td>False</td>\n",
              "      <td>False</td>\n",
              "      <td>False</td>\n",
              "      <td>False</td>\n",
              "      <td>False</td>\n",
              "    </tr>\n",
              "    <tr>\n",
              "      <th>1</th>\n",
              "      <td>False</td>\n",
              "      <td>False</td>\n",
              "      <td>False</td>\n",
              "      <td>False</td>\n",
              "      <td>False</td>\n",
              "      <td>False</td>\n",
              "      <td>False</td>\n",
              "      <td>False</td>\n",
              "      <td>False</td>\n",
              "      <td>False</td>\n",
              "      <td>...</td>\n",
              "      <td>False</td>\n",
              "      <td>False</td>\n",
              "      <td>False</td>\n",
              "      <td>False</td>\n",
              "      <td>False</td>\n",
              "      <td>False</td>\n",
              "      <td>False</td>\n",
              "      <td>False</td>\n",
              "      <td>False</td>\n",
              "      <td>False</td>\n",
              "    </tr>\n",
              "    <tr>\n",
              "      <th>2</th>\n",
              "      <td>False</td>\n",
              "      <td>False</td>\n",
              "      <td>False</td>\n",
              "      <td>False</td>\n",
              "      <td>False</td>\n",
              "      <td>False</td>\n",
              "      <td>False</td>\n",
              "      <td>False</td>\n",
              "      <td>False</td>\n",
              "      <td>False</td>\n",
              "      <td>...</td>\n",
              "      <td>False</td>\n",
              "      <td>False</td>\n",
              "      <td>False</td>\n",
              "      <td>False</td>\n",
              "      <td>False</td>\n",
              "      <td>False</td>\n",
              "      <td>False</td>\n",
              "      <td>False</td>\n",
              "      <td>False</td>\n",
              "      <td>False</td>\n",
              "    </tr>\n",
              "    <tr>\n",
              "      <th>3</th>\n",
              "      <td>False</td>\n",
              "      <td>False</td>\n",
              "      <td>False</td>\n",
              "      <td>False</td>\n",
              "      <td>False</td>\n",
              "      <td>False</td>\n",
              "      <td>False</td>\n",
              "      <td>False</td>\n",
              "      <td>False</td>\n",
              "      <td>False</td>\n",
              "      <td>...</td>\n",
              "      <td>False</td>\n",
              "      <td>False</td>\n",
              "      <td>False</td>\n",
              "      <td>False</td>\n",
              "      <td>False</td>\n",
              "      <td>False</td>\n",
              "      <td>False</td>\n",
              "      <td>False</td>\n",
              "      <td>False</td>\n",
              "      <td>False</td>\n",
              "    </tr>\n",
              "    <tr>\n",
              "      <th>4</th>\n",
              "      <td>False</td>\n",
              "      <td>False</td>\n",
              "      <td>False</td>\n",
              "      <td>False</td>\n",
              "      <td>False</td>\n",
              "      <td>False</td>\n",
              "      <td>False</td>\n",
              "      <td>False</td>\n",
              "      <td>False</td>\n",
              "      <td>False</td>\n",
              "      <td>...</td>\n",
              "      <td>False</td>\n",
              "      <td>False</td>\n",
              "      <td>False</td>\n",
              "      <td>False</td>\n",
              "      <td>False</td>\n",
              "      <td>False</td>\n",
              "      <td>False</td>\n",
              "      <td>False</td>\n",
              "      <td>False</td>\n",
              "      <td>False</td>\n",
              "    </tr>\n",
              "    <tr>\n",
              "      <th>...</th>\n",
              "      <td>...</td>\n",
              "      <td>...</td>\n",
              "      <td>...</td>\n",
              "      <td>...</td>\n",
              "      <td>...</td>\n",
              "      <td>...</td>\n",
              "      <td>...</td>\n",
              "      <td>...</td>\n",
              "      <td>...</td>\n",
              "      <td>...</td>\n",
              "      <td>...</td>\n",
              "      <td>...</td>\n",
              "      <td>...</td>\n",
              "      <td>...</td>\n",
              "      <td>...</td>\n",
              "      <td>...</td>\n",
              "      <td>...</td>\n",
              "      <td>...</td>\n",
              "      <td>...</td>\n",
              "      <td>...</td>\n",
              "      <td>...</td>\n",
              "    </tr>\n",
              "    <tr>\n",
              "      <th>87549</th>\n",
              "      <td>False</td>\n",
              "      <td>False</td>\n",
              "      <td>False</td>\n",
              "      <td>False</td>\n",
              "      <td>False</td>\n",
              "      <td>False</td>\n",
              "      <td>False</td>\n",
              "      <td>False</td>\n",
              "      <td>False</td>\n",
              "      <td>False</td>\n",
              "      <td>...</td>\n",
              "      <td>False</td>\n",
              "      <td>False</td>\n",
              "      <td>False</td>\n",
              "      <td>False</td>\n",
              "      <td>False</td>\n",
              "      <td>False</td>\n",
              "      <td>False</td>\n",
              "      <td>False</td>\n",
              "      <td>False</td>\n",
              "      <td>False</td>\n",
              "    </tr>\n",
              "    <tr>\n",
              "      <th>87550</th>\n",
              "      <td>False</td>\n",
              "      <td>False</td>\n",
              "      <td>False</td>\n",
              "      <td>False</td>\n",
              "      <td>False</td>\n",
              "      <td>False</td>\n",
              "      <td>False</td>\n",
              "      <td>False</td>\n",
              "      <td>False</td>\n",
              "      <td>False</td>\n",
              "      <td>...</td>\n",
              "      <td>False</td>\n",
              "      <td>False</td>\n",
              "      <td>False</td>\n",
              "      <td>False</td>\n",
              "      <td>False</td>\n",
              "      <td>False</td>\n",
              "      <td>False</td>\n",
              "      <td>False</td>\n",
              "      <td>False</td>\n",
              "      <td>False</td>\n",
              "    </tr>\n",
              "    <tr>\n",
              "      <th>87551</th>\n",
              "      <td>False</td>\n",
              "      <td>False</td>\n",
              "      <td>False</td>\n",
              "      <td>False</td>\n",
              "      <td>False</td>\n",
              "      <td>False</td>\n",
              "      <td>False</td>\n",
              "      <td>False</td>\n",
              "      <td>False</td>\n",
              "      <td>False</td>\n",
              "      <td>...</td>\n",
              "      <td>False</td>\n",
              "      <td>False</td>\n",
              "      <td>False</td>\n",
              "      <td>False</td>\n",
              "      <td>False</td>\n",
              "      <td>False</td>\n",
              "      <td>False</td>\n",
              "      <td>False</td>\n",
              "      <td>False</td>\n",
              "      <td>False</td>\n",
              "    </tr>\n",
              "    <tr>\n",
              "      <th>87552</th>\n",
              "      <td>False</td>\n",
              "      <td>False</td>\n",
              "      <td>False</td>\n",
              "      <td>False</td>\n",
              "      <td>False</td>\n",
              "      <td>False</td>\n",
              "      <td>False</td>\n",
              "      <td>False</td>\n",
              "      <td>False</td>\n",
              "      <td>False</td>\n",
              "      <td>...</td>\n",
              "      <td>False</td>\n",
              "      <td>False</td>\n",
              "      <td>False</td>\n",
              "      <td>False</td>\n",
              "      <td>False</td>\n",
              "      <td>False</td>\n",
              "      <td>False</td>\n",
              "      <td>False</td>\n",
              "      <td>False</td>\n",
              "      <td>False</td>\n",
              "    </tr>\n",
              "    <tr>\n",
              "      <th>87553</th>\n",
              "      <td>False</td>\n",
              "      <td>False</td>\n",
              "      <td>False</td>\n",
              "      <td>False</td>\n",
              "      <td>False</td>\n",
              "      <td>False</td>\n",
              "      <td>False</td>\n",
              "      <td>False</td>\n",
              "      <td>False</td>\n",
              "      <td>False</td>\n",
              "      <td>...</td>\n",
              "      <td>False</td>\n",
              "      <td>False</td>\n",
              "      <td>False</td>\n",
              "      <td>False</td>\n",
              "      <td>False</td>\n",
              "      <td>False</td>\n",
              "      <td>False</td>\n",
              "      <td>False</td>\n",
              "      <td>False</td>\n",
              "      <td>False</td>\n",
              "    </tr>\n",
              "  </tbody>\n",
              "</table>\n",
              "<p>87554 rows × 188 columns</p>\n",
              "</div>"
            ],
            "text/plain": [
              "         0      1      2      3      4      5      6      7      8      9    \\\n",
              "0      False  False  False  False  False  False  False  False  False  False   \n",
              "1      False  False  False  False  False  False  False  False  False  False   \n",
              "2      False  False  False  False  False  False  False  False  False  False   \n",
              "3      False  False  False  False  False  False  False  False  False  False   \n",
              "4      False  False  False  False  False  False  False  False  False  False   \n",
              "...      ...    ...    ...    ...    ...    ...    ...    ...    ...    ...   \n",
              "87549  False  False  False  False  False  False  False  False  False  False   \n",
              "87550  False  False  False  False  False  False  False  False  False  False   \n",
              "87551  False  False  False  False  False  False  False  False  False  False   \n",
              "87552  False  False  False  False  False  False  False  False  False  False   \n",
              "87553  False  False  False  False  False  False  False  False  False  False   \n",
              "\n",
              "       ...    178    179    180    181    182    183    184    185    186  \\\n",
              "0      ...  False  False  False  False  False  False  False  False  False   \n",
              "1      ...  False  False  False  False  False  False  False  False  False   \n",
              "2      ...  False  False  False  False  False  False  False  False  False   \n",
              "3      ...  False  False  False  False  False  False  False  False  False   \n",
              "4      ...  False  False  False  False  False  False  False  False  False   \n",
              "...    ...    ...    ...    ...    ...    ...    ...    ...    ...    ...   \n",
              "87549  ...  False  False  False  False  False  False  False  False  False   \n",
              "87550  ...  False  False  False  False  False  False  False  False  False   \n",
              "87551  ...  False  False  False  False  False  False  False  False  False   \n",
              "87552  ...  False  False  False  False  False  False  False  False  False   \n",
              "87553  ...  False  False  False  False  False  False  False  False  False   \n",
              "\n",
              "         187  \n",
              "0      False  \n",
              "1      False  \n",
              "2      False  \n",
              "3      False  \n",
              "4      False  \n",
              "...      ...  \n",
              "87549  False  \n",
              "87550  False  \n",
              "87551  False  \n",
              "87552  False  \n",
              "87553  False  \n",
              "\n",
              "[87554 rows x 188 columns]"
            ]
          },
          "execution_count": 10,
          "metadata": {},
          "output_type": "execute_result"
        }
      ],
      "source": [
        "#check the inf in train data\n",
        "df_train.isin([np.inf, -np.inf])"
      ]
    },
    {
      "cell_type": "code",
      "execution_count": null,
      "metadata": {
        "id": "_i39qh_UXv_A",
        "outputId": "45de04db-963d-4dc1-a065-c52ff60c1713"
      },
      "outputs": [
        {
          "data": {
            "text/html": [
              "<div>\n",
              "<style scoped>\n",
              "    .dataframe tbody tr th:only-of-type {\n",
              "        vertical-align: middle;\n",
              "    }\n",
              "\n",
              "    .dataframe tbody tr th {\n",
              "        vertical-align: top;\n",
              "    }\n",
              "\n",
              "    .dataframe thead th {\n",
              "        text-align: right;\n",
              "    }\n",
              "</style>\n",
              "<table border=\"1\" class=\"dataframe\">\n",
              "  <thead>\n",
              "    <tr style=\"text-align: right;\">\n",
              "      <th></th>\n",
              "      <th>0</th>\n",
              "      <th>1</th>\n",
              "      <th>2</th>\n",
              "      <th>3</th>\n",
              "      <th>4</th>\n",
              "      <th>5</th>\n",
              "      <th>6</th>\n",
              "      <th>7</th>\n",
              "      <th>8</th>\n",
              "      <th>9</th>\n",
              "      <th>...</th>\n",
              "      <th>178</th>\n",
              "      <th>179</th>\n",
              "      <th>180</th>\n",
              "      <th>181</th>\n",
              "      <th>182</th>\n",
              "      <th>183</th>\n",
              "      <th>184</th>\n",
              "      <th>185</th>\n",
              "      <th>186</th>\n",
              "      <th>187</th>\n",
              "    </tr>\n",
              "  </thead>\n",
              "  <tbody>\n",
              "    <tr>\n",
              "      <th>0</th>\n",
              "      <td>False</td>\n",
              "      <td>False</td>\n",
              "      <td>False</td>\n",
              "      <td>False</td>\n",
              "      <td>False</td>\n",
              "      <td>False</td>\n",
              "      <td>False</td>\n",
              "      <td>False</td>\n",
              "      <td>False</td>\n",
              "      <td>False</td>\n",
              "      <td>...</td>\n",
              "      <td>False</td>\n",
              "      <td>False</td>\n",
              "      <td>False</td>\n",
              "      <td>False</td>\n",
              "      <td>False</td>\n",
              "      <td>False</td>\n",
              "      <td>False</td>\n",
              "      <td>False</td>\n",
              "      <td>False</td>\n",
              "      <td>False</td>\n",
              "    </tr>\n",
              "    <tr>\n",
              "      <th>1</th>\n",
              "      <td>False</td>\n",
              "      <td>False</td>\n",
              "      <td>False</td>\n",
              "      <td>False</td>\n",
              "      <td>False</td>\n",
              "      <td>False</td>\n",
              "      <td>False</td>\n",
              "      <td>False</td>\n",
              "      <td>False</td>\n",
              "      <td>False</td>\n",
              "      <td>...</td>\n",
              "      <td>False</td>\n",
              "      <td>False</td>\n",
              "      <td>False</td>\n",
              "      <td>False</td>\n",
              "      <td>False</td>\n",
              "      <td>False</td>\n",
              "      <td>False</td>\n",
              "      <td>False</td>\n",
              "      <td>False</td>\n",
              "      <td>False</td>\n",
              "    </tr>\n",
              "    <tr>\n",
              "      <th>2</th>\n",
              "      <td>False</td>\n",
              "      <td>False</td>\n",
              "      <td>False</td>\n",
              "      <td>False</td>\n",
              "      <td>False</td>\n",
              "      <td>False</td>\n",
              "      <td>False</td>\n",
              "      <td>False</td>\n",
              "      <td>False</td>\n",
              "      <td>False</td>\n",
              "      <td>...</td>\n",
              "      <td>False</td>\n",
              "      <td>False</td>\n",
              "      <td>False</td>\n",
              "      <td>False</td>\n",
              "      <td>False</td>\n",
              "      <td>False</td>\n",
              "      <td>False</td>\n",
              "      <td>False</td>\n",
              "      <td>False</td>\n",
              "      <td>False</td>\n",
              "    </tr>\n",
              "    <tr>\n",
              "      <th>3</th>\n",
              "      <td>False</td>\n",
              "      <td>False</td>\n",
              "      <td>False</td>\n",
              "      <td>False</td>\n",
              "      <td>False</td>\n",
              "      <td>False</td>\n",
              "      <td>False</td>\n",
              "      <td>False</td>\n",
              "      <td>False</td>\n",
              "      <td>False</td>\n",
              "      <td>...</td>\n",
              "      <td>False</td>\n",
              "      <td>False</td>\n",
              "      <td>False</td>\n",
              "      <td>False</td>\n",
              "      <td>False</td>\n",
              "      <td>False</td>\n",
              "      <td>False</td>\n",
              "      <td>False</td>\n",
              "      <td>False</td>\n",
              "      <td>False</td>\n",
              "    </tr>\n",
              "    <tr>\n",
              "      <th>4</th>\n",
              "      <td>False</td>\n",
              "      <td>False</td>\n",
              "      <td>False</td>\n",
              "      <td>False</td>\n",
              "      <td>False</td>\n",
              "      <td>False</td>\n",
              "      <td>False</td>\n",
              "      <td>False</td>\n",
              "      <td>False</td>\n",
              "      <td>False</td>\n",
              "      <td>...</td>\n",
              "      <td>False</td>\n",
              "      <td>False</td>\n",
              "      <td>False</td>\n",
              "      <td>False</td>\n",
              "      <td>False</td>\n",
              "      <td>False</td>\n",
              "      <td>False</td>\n",
              "      <td>False</td>\n",
              "      <td>False</td>\n",
              "      <td>False</td>\n",
              "    </tr>\n",
              "    <tr>\n",
              "      <th>...</th>\n",
              "      <td>...</td>\n",
              "      <td>...</td>\n",
              "      <td>...</td>\n",
              "      <td>...</td>\n",
              "      <td>...</td>\n",
              "      <td>...</td>\n",
              "      <td>...</td>\n",
              "      <td>...</td>\n",
              "      <td>...</td>\n",
              "      <td>...</td>\n",
              "      <td>...</td>\n",
              "      <td>...</td>\n",
              "      <td>...</td>\n",
              "      <td>...</td>\n",
              "      <td>...</td>\n",
              "      <td>...</td>\n",
              "      <td>...</td>\n",
              "      <td>...</td>\n",
              "      <td>...</td>\n",
              "      <td>...</td>\n",
              "      <td>...</td>\n",
              "    </tr>\n",
              "    <tr>\n",
              "      <th>21887</th>\n",
              "      <td>False</td>\n",
              "      <td>False</td>\n",
              "      <td>False</td>\n",
              "      <td>False</td>\n",
              "      <td>False</td>\n",
              "      <td>False</td>\n",
              "      <td>False</td>\n",
              "      <td>False</td>\n",
              "      <td>False</td>\n",
              "      <td>False</td>\n",
              "      <td>...</td>\n",
              "      <td>False</td>\n",
              "      <td>False</td>\n",
              "      <td>False</td>\n",
              "      <td>False</td>\n",
              "      <td>False</td>\n",
              "      <td>False</td>\n",
              "      <td>False</td>\n",
              "      <td>False</td>\n",
              "      <td>False</td>\n",
              "      <td>False</td>\n",
              "    </tr>\n",
              "    <tr>\n",
              "      <th>21888</th>\n",
              "      <td>False</td>\n",
              "      <td>False</td>\n",
              "      <td>False</td>\n",
              "      <td>False</td>\n",
              "      <td>False</td>\n",
              "      <td>False</td>\n",
              "      <td>False</td>\n",
              "      <td>False</td>\n",
              "      <td>False</td>\n",
              "      <td>False</td>\n",
              "      <td>...</td>\n",
              "      <td>False</td>\n",
              "      <td>False</td>\n",
              "      <td>False</td>\n",
              "      <td>False</td>\n",
              "      <td>False</td>\n",
              "      <td>False</td>\n",
              "      <td>False</td>\n",
              "      <td>False</td>\n",
              "      <td>False</td>\n",
              "      <td>False</td>\n",
              "    </tr>\n",
              "    <tr>\n",
              "      <th>21889</th>\n",
              "      <td>False</td>\n",
              "      <td>False</td>\n",
              "      <td>False</td>\n",
              "      <td>False</td>\n",
              "      <td>False</td>\n",
              "      <td>False</td>\n",
              "      <td>False</td>\n",
              "      <td>False</td>\n",
              "      <td>False</td>\n",
              "      <td>False</td>\n",
              "      <td>...</td>\n",
              "      <td>False</td>\n",
              "      <td>False</td>\n",
              "      <td>False</td>\n",
              "      <td>False</td>\n",
              "      <td>False</td>\n",
              "      <td>False</td>\n",
              "      <td>False</td>\n",
              "      <td>False</td>\n",
              "      <td>False</td>\n",
              "      <td>False</td>\n",
              "    </tr>\n",
              "    <tr>\n",
              "      <th>21890</th>\n",
              "      <td>False</td>\n",
              "      <td>False</td>\n",
              "      <td>False</td>\n",
              "      <td>False</td>\n",
              "      <td>False</td>\n",
              "      <td>False</td>\n",
              "      <td>False</td>\n",
              "      <td>False</td>\n",
              "      <td>False</td>\n",
              "      <td>False</td>\n",
              "      <td>...</td>\n",
              "      <td>False</td>\n",
              "      <td>False</td>\n",
              "      <td>False</td>\n",
              "      <td>False</td>\n",
              "      <td>False</td>\n",
              "      <td>False</td>\n",
              "      <td>False</td>\n",
              "      <td>False</td>\n",
              "      <td>False</td>\n",
              "      <td>False</td>\n",
              "    </tr>\n",
              "    <tr>\n",
              "      <th>21891</th>\n",
              "      <td>False</td>\n",
              "      <td>False</td>\n",
              "      <td>False</td>\n",
              "      <td>False</td>\n",
              "      <td>False</td>\n",
              "      <td>False</td>\n",
              "      <td>False</td>\n",
              "      <td>False</td>\n",
              "      <td>False</td>\n",
              "      <td>False</td>\n",
              "      <td>...</td>\n",
              "      <td>False</td>\n",
              "      <td>False</td>\n",
              "      <td>False</td>\n",
              "      <td>False</td>\n",
              "      <td>False</td>\n",
              "      <td>False</td>\n",
              "      <td>False</td>\n",
              "      <td>False</td>\n",
              "      <td>False</td>\n",
              "      <td>False</td>\n",
              "    </tr>\n",
              "  </tbody>\n",
              "</table>\n",
              "<p>21892 rows × 188 columns</p>\n",
              "</div>"
            ],
            "text/plain": [
              "         0      1      2      3      4      5      6      7      8      9    \\\n",
              "0      False  False  False  False  False  False  False  False  False  False   \n",
              "1      False  False  False  False  False  False  False  False  False  False   \n",
              "2      False  False  False  False  False  False  False  False  False  False   \n",
              "3      False  False  False  False  False  False  False  False  False  False   \n",
              "4      False  False  False  False  False  False  False  False  False  False   \n",
              "...      ...    ...    ...    ...    ...    ...    ...    ...    ...    ...   \n",
              "21887  False  False  False  False  False  False  False  False  False  False   \n",
              "21888  False  False  False  False  False  False  False  False  False  False   \n",
              "21889  False  False  False  False  False  False  False  False  False  False   \n",
              "21890  False  False  False  False  False  False  False  False  False  False   \n",
              "21891  False  False  False  False  False  False  False  False  False  False   \n",
              "\n",
              "       ...    178    179    180    181    182    183    184    185    186  \\\n",
              "0      ...  False  False  False  False  False  False  False  False  False   \n",
              "1      ...  False  False  False  False  False  False  False  False  False   \n",
              "2      ...  False  False  False  False  False  False  False  False  False   \n",
              "3      ...  False  False  False  False  False  False  False  False  False   \n",
              "4      ...  False  False  False  False  False  False  False  False  False   \n",
              "...    ...    ...    ...    ...    ...    ...    ...    ...    ...    ...   \n",
              "21887  ...  False  False  False  False  False  False  False  False  False   \n",
              "21888  ...  False  False  False  False  False  False  False  False  False   \n",
              "21889  ...  False  False  False  False  False  False  False  False  False   \n",
              "21890  ...  False  False  False  False  False  False  False  False  False   \n",
              "21891  ...  False  False  False  False  False  False  False  False  False   \n",
              "\n",
              "         187  \n",
              "0      False  \n",
              "1      False  \n",
              "2      False  \n",
              "3      False  \n",
              "4      False  \n",
              "...      ...  \n",
              "21887  False  \n",
              "21888  False  \n",
              "21889  False  \n",
              "21890  False  \n",
              "21891  False  \n",
              "\n",
              "[21892 rows x 188 columns]"
            ]
          },
          "execution_count": 11,
          "metadata": {},
          "output_type": "execute_result"
        }
      ],
      "source": [
        "#check the inf in test data\n",
        "df_test.isin([np.inf, -np.inf])"
      ]
    },
    {
      "cell_type": "code",
      "execution_count": null,
      "metadata": {
        "id": "siNR-WCCXv_B"
      },
      "outputs": [],
      "source": [
        "#plotting\n",
        "def plot_sample(data_class,title):\n",
        "    plt.plot(data_class.iloc[0, :], color = 'b')\n",
        "    plt.xlabel(\"time\")\n",
        "    plt.ylabel(\"beat of heart\")\n",
        "    plt.title(title)\n",
        "    plt.show()"
      ]
    },
    {
      "cell_type": "code",
      "execution_count": null,
      "metadata": {
        "id": "1ptS6AJpXv_B"
      },
      "outputs": [],
      "source": [
        "#each class\n",
        "def sample_class_data(data):\n",
        "    data_class_0=data[data[187]==0]\n",
        "    data_class_1=data[data[187]==1]\n",
        "    data_class_2=data[data[187]==2]\n",
        "    data_class_3=data[data[187]==3]\n",
        "    data_class_4=data[data[187]==4]\n",
        "    return data_class_0,data_class_1,data_class_2,data_class_3,data_class_4"
      ]
    },
    {
      "cell_type": "code",
      "execution_count": null,
      "metadata": {
        "id": "iPZRYrm7Xv_C",
        "outputId": "70c4c7b2-2076-4b32-e068-68d5b650609c"
      },
      "outputs": [
        {
          "data": {
            "image/png": "[encoded data removed]",
            "text/plain": [
              "<Figure size 432x288 with 1 Axes>"
            ]
          },
          "metadata": {
            "needs_background": "light"
          },
          "output_type": "display_data"
        },
        {
          "data": {
            "image/png": "[encoded data removed]",
            "text/plain": [
              "<Figure size 432x288 with 1 Axes>"
            ]
          },
          "metadata": {
            "needs_background": "light"
          },
          "output_type": "display_data"
        },
        {
          "data": {
            "image/png": "[encoded data removed]",
            "text/plain": [
              "<Figure size 432x288 with 1 Axes>"
            ]
          },
          "metadata": {
            "needs_background": "light"
          },
          "output_type": "display_data"
        },
        {
          "data": {
            "image/png": "[encoded data removed]",
            "text/plain": [
              "<Figure size 432x288 with 1 Axes>"
            ]
          },
          "metadata": {
            "needs_background": "light"
          },
          "output_type": "display_data"
        },
        {
          "data": {
            "image/png": "[encoded data removed]",
            "text/plain": [
              "<Figure size 432x288 with 1 Axes>"
            ]
          },
          "metadata": {
            "needs_background": "light"
          },
          "output_type": "display_data"
        },
        {
          "data": {
            "image/png": "[encoded data removed]",
            "text/plain": [
              "<Figure size 432x288 with 1 Axes>"
            ]
          },
          "metadata": {
            "needs_background": "light"
          },
          "output_type": "display_data"
        },
        {
          "data": {
            "image/png": "[encoded data removed]",
            "text/plain": [
              "<Figure size 432x288 with 1 Axes>"
            ]
          },
          "metadata": {
            "needs_background": "light"
          },
          "output_type": "display_data"
        },
        {
          "data": {
            "image/png": "[encoded data removed]",
            "text/plain": [
              "<Figure size 432x288 with 1 Axes>"
            ]
          },
          "metadata": {
            "needs_background": "light"
          },
          "output_type": "display_data"
        },
        {
          "data": {
            "image/png": "[encoded data removed]",
            "text/plain": [
              "<Figure size 432x288 with 1 Axes>"
            ]
          },
          "metadata": {
            "needs_background": "light"
          },
          "output_type": "display_data"
        },
        {
          "data": {
            "image/png": "[encoded data removed]",
            "text/plain": [
              "<Figure size 432x288 with 1 Axes>"
            ]
          },
          "metadata": {
            "needs_background": "light"
          },
          "output_type": "display_data"
        }
      ],
      "source": [
        "train_class_0,train_class_1,train_class_2,train_class_3,train_class_4=sample_class_data(df_train)\n",
        "test_class_0,test_class_1,test_class_2,test_class_3,test_class_4=sample_class_data(df_test)\n",
        "#plot sample in training data for each classes\n",
        "plot_sample(train_class_0,\"sample of class 0 in train\")\n",
        "plot_sample(train_class_1,\"sample of class 1 in train\")\n",
        "plot_sample(train_class_2,\"sample of class 2 in train\")\n",
        "plot_sample(train_class_3,\"sample of class 3 in train\")\n",
        "plot_sample(train_class_4,\"sample of class 4 in train\")\n",
        "#plot sample in testing data for each classes\n",
        "plot_sample(test_class_0,\"sample of class 0 in test\")\n",
        "plot_sample(test_class_1,\"sample of class 1 in test\")\n",
        "plot_sample(test_class_2,\"sample of class 2 in test\")\n",
        "plot_sample(test_class_3,\"sample of class 3 in test\")\n",
        "plot_sample(test_class_4,\"sample of class 4 in test\")"
      ]
    },
    {
      "cell_type": "code",
      "execution_count": null,
      "metadata": {
        "id": "Bm9f0pTtXv_C"
      },
      "outputs": [],
      "source": [
        "def count_plot_class(data,title):\n",
        "    print(data[187].value_counts())\n",
        "    x_1 = np.arange(5)\n",
        "    plt.bar(x_1, data[187].value_counts(),color='b')\n",
        "    plt.xticks(x_1,[0,1,2,3,4])\n",
        "    plt.xlabel(\"label\")\n",
        "    plt.ylabel(\"distribution\")\n",
        "    plt.title(title)\n",
        "    plt.legend([\"label\"],bbox_to_anchor =(0.6, 1.2))\n",
        "    plt.show()"
      ]
    },
    {
      "cell_type": "code",
      "execution_count": null,
      "metadata": {
        "id": "XYUDmNbIXv_D",
        "outputId": "5f7f710e-b3ab-4dd3-ab29-4d96b32e24cf"
      },
      "outputs": [
        {
          "name": "stdout",
          "output_type": "stream",
          "text": [
            "0.0    72471\n",
            "4.0     6431\n",
            "2.0     5788\n",
            "1.0     2223\n",
            "3.0      641\n",
            "Name: 187, dtype: int64\n"
          ]
        },
        {
          "data": {
            "image/png": "[encoded data removed]",
            "text/plain": [
              "<Figure size 432x288 with 1 Axes>"
            ]
          },
          "metadata": {
            "needs_background": "light"
          },
          "output_type": "display_data"
        },
        {
          "name": "stdout",
          "output_type": "stream",
          "text": [
            "0.0    18118\n",
            "4.0     1608\n",
            "2.0     1448\n",
            "1.0      556\n",
            "3.0      162\n",
            "Name: 187, dtype: int64\n"
          ]
        },
        {
          "data": {
            "image/png": "[encoded data removed]",
            "text/plain": [
              "<Figure size 432x288 with 1 Axes>"
            ]
          },
          "metadata": {
            "needs_background": "light"
          },
          "output_type": "display_data"
        }
      ],
      "source": [
        "#plot count label in training and testing data\n",
        "count_plot_class(df_train,\"data distribution in training data\")\n",
        "count_plot_class(df_test,\"data distribution in testing data\")"
      ]
    },
    {
      "cell_type": "markdown",
      "metadata": {
        "id": "g9FAdhZPXv_D"
      },
      "source": [
        "from value count the classes the previous graph show the implance data between classes in training and testing data so we apply oversampling smote on the training data."
      ]
    },
    {
      "cell_type": "markdown",
      "metadata": {
        "id": "NXWYMDugXv_E"
      },
      "source": [
        "# Data preprocessing"
      ]
    },
    {
      "cell_type": "code",
      "execution_count": null,
      "metadata": {
        "id": "sv3406FVXv_E"
      },
      "outputs": [],
      "source": [
        "#split train data into feature and target\n",
        "x_train=df_train.iloc[:,0:187]\n",
        "y_train=df_train.iloc[:,187]"
      ]
    },
    {
      "cell_type": "code",
      "execution_count": null,
      "metadata": {
        "id": "i2v0j8U8Xv_F"
      },
      "outputs": [],
      "source": [
        "#split test data into feature and target\n",
        "x_test=df_test.iloc[:,0:187]\n",
        "y_test=df_test.iloc[:,187]"
      ]
    },
    {
      "cell_type": "code",
      "execution_count": null,
      "metadata": {
        "id": "_zrkBR_VXv_F",
        "outputId": "34a63cac-4801-48b6-b790-fd61f874ab85"
      },
      "outputs": [
        {
          "data": {
            "text/plain": [
              "[1.0,\n",
              " 0.7582644820213318,\n",
              " 0.11157024651765823,\n",
              " 0.0,\n",
              " 0.08057851344347002,\n",
              " 0.07851240038871765,\n",
              " 0.06611569970846176,\n",
              " 0.04958677664399147,\n",
              " 0.047520659863948815,\n",
              " 0.03512396663427353,\n",
              " 0.03099173493683338,\n",
              " 0.028925620019435883,\n",
              " 0.03512396663427353,\n",
              " 0.026859503239393234,\n",
              " 0.039256200194358826,\n",
              " 0.03512396663427353,\n",
              " 0.043388430029153824,\n",
              " 0.047520659863948815,\n",
              " 0.05371900647878647,\n",
              " 0.05371900647878647,\n",
              " 0.07024793326854706,\n",
              " 0.0723140463232994,\n",
              " 0.08471074700355531,\n",
              " 0.09710744023323059,\n",
              " 0.12190082669258115,\n",
              " 0.13223139941692352,\n",
              " 0.1694214940071106,\n",
              " 0.19628098607063293,\n",
              " 0.2148760259151459,\n",
              " 0.23553718626499176,\n",
              " 0.2541322410106659,\n",
              " 0.26446279883384705,\n",
              " 0.2851239740848541,\n",
              " 0.27272728085517883,\n",
              " 0.2665289342403412,\n",
              " 0.23966942727565765,\n",
              " 0.2148760259151459,\n",
              " 0.1735537201166153,\n",
              " 0.1570248007774353,\n",
              " 0.12396693974733353,\n",
              " 0.12190082669258115,\n",
              " 0.10743801295757292,\n",
              " 0.10537189990282057,\n",
              " 0.09710744023323059,\n",
              " 0.10537189990282057,\n",
              " 0.09917355328798294,\n",
              " 0.10537189990282057,\n",
              " 0.09917355328798294,\n",
              " 0.10743801295757292,\n",
              " 0.10743801295757292,\n",
              " 0.11570248007774353,\n",
              " 0.11157024651765823,\n",
              " 0.12190082669258115,\n",
              " 0.11157024651765823,\n",
              " 0.11983471363782883,\n",
              " 0.11157024651765823,\n",
              " 0.11363636702299118,\n",
              " 0.11157024651765823,\n",
              " 0.12190082669258115,\n",
              " 0.10537189990282057,\n",
              " 0.10743801295757292,\n",
              " 0.10123966634273528,\n",
              " 0.10123966634273528,\n",
              " 0.08677686005830765,\n",
              " 0.0929752066731453,\n",
              " 0.08471074700355531,\n",
              " 0.08264462649822235,\n",
              " 0.07851240038871765,\n",
              " 0.07851240038871765,\n",
              " 0.07024793326854706,\n",
              " 0.07644627988338472,\n",
              " 0.06818182021379471,\n",
              " 0.07851240038871765,\n",
              " 0.07024793326854706,\n",
              " 0.06818182021379471,\n",
              " 0.06818182021379471,\n",
              " 0.07438016682863235,\n",
              " 0.0723140463232994,\n",
              " 0.09090909361839294,\n",
              " 0.10123966634273528,\n",
              " 0.10743801295757292,\n",
              " 0.10537189990282057,\n",
              " 0.12190082669258115,\n",
              " 0.11570248007774353,\n",
              " 0.10950413346290588,\n",
              " 0.09710744023323059,\n",
              " 0.10330578684806824,\n",
              " 0.09710744023323059,\n",
              " 0.08677686005830765,\n",
              " 0.0723140463232994,\n",
              " 0.07024793326854706,\n",
              " 0.05371900647878647,\n",
              " 0.057851240038871765,\n",
              " 0.04958677664399147,\n",
              " 0.057851240038871765,\n",
              " 0.05165289342403412,\n",
              " 0.05578512325882912,\n",
              " 0.05371900647878647,\n",
              " 0.05371900647878647,\n",
              " 0.0,\n",
              " 0.012396694160997868,\n",
              " 0.18801653385162356,\n",
              " 0.6818181872367858,\n",
              " 0.9752066135406494,\n",
              " 0.6157024502754213,\n",
              " 0.041322313249111176,\n",
              " 0.012396694160997868,\n",
              " 0.08677686005830765,\n",
              " 0.06611569970846176,\n",
              " 0.06611569970846176,\n",
              " 0.05165289342403412,\n",
              " 0.039256200194358826,\n",
              " 0.043388430029153824,\n",
              " 0.03305784985423088,\n",
              " 0.041322313249111176,\n",
              " 0.03512396663427353,\n",
              " 0.04545454680919647,\n",
              " 0.041322313249111176,\n",
              " 0.04545454680919647,\n",
              " 0.043388430029153824,\n",
              " 0.04958677664399147,\n",
              " 0.047520659863948815,\n",
              " 0.06404958665370941,\n",
              " 0.06818182021379471,\n",
              " 0.0,\n",
              " 0.0,\n",
              " 0.0,\n",
              " 0.0,\n",
              " 0.0,\n",
              " 0.0,\n",
              " 0.0,\n",
              " 0.0,\n",
              " 0.0,\n",
              " 0.0,\n",
              " 0.0,\n",
              " 0.0,\n",
              " 0.0,\n",
              " 0.0,\n",
              " 0.0,\n",
              " 0.0,\n",
              " 0.0,\n",
              " 0.0,\n",
              " 0.0,\n",
              " 0.0,\n",
              " 0.0,\n",
              " 0.0,\n",
              " 0.0,\n",
              " 0.0,\n",
              " 0.0,\n",
              " 0.0,\n",
              " 0.0,\n",
              " 0.0,\n",
              " 0.0,\n",
              " 0.0,\n",
              " 0.0,\n",
              " 0.0,\n",
              " 0.0,\n",
              " 0.0,\n",
              " 0.0,\n",
              " 0.0,\n",
              " 0.0,\n",
              " 0.0,\n",
              " 0.0,\n",
              " 0.0,\n",
              " 0.0,\n",
              " 0.0,\n",
              " 0.0,\n",
              " 0.0,\n",
              " 0.0,\n",
              " 0.0,\n",
              " 0.0,\n",
              " 0.0,\n",
              " 0.0,\n",
              " 0.0,\n",
              " 0.0,\n",
              " 0.0,\n",
              " 0.0,\n",
              " 0.0,\n",
              " 0.0,\n",
              " 0.0,\n",
              " 0.0,\n",
              " 0.0,\n",
              " 0.0,\n",
              " 0.0,\n",
              " 0.0,\n",
              " 0.0,\n",
              " 0.0]"
            ]
          },
          "execution_count": 67,
          "metadata": {},
          "output_type": "execute_result"
        }
      ],
      "source": [
        "list(x_test.iloc[0,0:187])"
      ]
    },
    {
      "cell_type": "code",
      "execution_count": null,
      "metadata": {
        "id": "ipJg7w7_Xv_F"
      },
      "outputs": [],
      "source": [
        "#applying smote oversampling\n",
        "oversample = SMOTE()\n",
        "x__train,y__train= oversample.fit_resample(x_train, y_train)\n",
        "df__train=x__train.copy()\n",
        "df__train[187]=y__train"
      ]
    },
    {
      "cell_type": "code",
      "execution_count": null,
      "metadata": {
        "id": "rK43pmCbXv_G",
        "outputId": "5b8c907f-681b-4fe2-e1b7-1141e346d742"
      },
      "outputs": [
        {
          "name": "stdout",
          "output_type": "stream",
          "text": [
            "1.0    72471\n",
            "3.0    72471\n",
            "4.0    72471\n",
            "2.0    72471\n",
            "0.0    72471\n",
            "Name: 187, dtype: int64\n"
          ]
        },
        {
          "data": {
            "image/png": "[encoded data removed]",
            "text/plain": [
              "<Figure size 432x288 with 1 Axes>"
            ]
          },
          "metadata": {
            "needs_background": "light"
          },
          "output_type": "display_data"
        }
      ],
      "source": [
        "#after oversampling y__train value counts \n",
        "count_plot_class(df__train,\"data distribution in training data after oversampling\")"
      ]
    },
    {
      "cell_type": "markdown",
      "metadata": {
        "id": "X4hUCenlXv_G"
      },
      "source": [
        "# applying model CatBoostClassifier"
      ]
    },
    {
      "cell_type": "code",
      "execution_count": null,
      "metadata": {
        "id": "lLnt1ZSjXv_G"
      },
      "outputs": [],
      "source": [
        "#appling CatBoostClassifier \n",
        "def model(clf_c,x__train,y__train,x_test,y_test):\n",
        "    clf_c.fit(x__train, y__train)\n",
        "    y_pred_c=clf_c.predict(x_test)\n",
        "    #print(f1_score(y_test,y_pred_c))\n",
        "    print(\"accuracy for catBoost\",accuracy_score(y_test, y_pred_c)*100)\n",
        "    print(\"f1_score for catBoost for each class \",f1_score(y_test, y_pred_c, average=None))\n",
        "    print(\"f1_score for catBoost by micro \",f1_score(y_test, y_pred_c, average='micro'))\n",
        "    print(\"f1_score for catBoost by weighted \",f1_score(y_test, y_pred_c, average='weighted'))\n",
        "    plot_confusion_matrix(clf_c, x_test, y_test)\n",
        "    print(classification_report(y_test, y_pred_c))\n",
        "    return y_pred_c"
      ]
    },
    {
      "cell_type": "code",
      "execution_count": null,
      "metadata": {
        "id": "pVeA_txJXv_G",
        "outputId": "56cf04d1-c9cf-495b-e22e-19592a44625a"
      },
      "outputs": [
        {
          "name": "stdout",
          "output_type": "stream",
          "text": [
            "accuracy for catBoost 97.41458066873744\n",
            "f1_score for catBoost for each class  [0.98608879 0.76149915 0.93992448 0.72351421 0.97890819]\n",
            "f1_score for catBoost by micro  0.9741458066873744\n",
            "f1_score for catBoost by weighted  0.9748608851187074\n",
            "              precision    recall  f1-score   support\n",
            "\n",
            "         0.0       0.99      0.98      0.99     18118\n",
            "         1.0       0.72      0.80      0.76       556\n",
            "         2.0       0.93      0.95      0.94      1448\n",
            "         3.0       0.62      0.86      0.72       162\n",
            "         4.0       0.98      0.98      0.98      1608\n",
            "\n",
            "    accuracy                           0.97     21892\n",
            "   macro avg       0.85      0.92      0.88     21892\n",
            "weighted avg       0.98      0.97      0.97     21892\n",
            "\n"
          ]
        },
        {
          "data": {
            "image/png": "[encoded data removed]",
            "text/plain": [
              "<Figure size 432x288 with 2 Axes>"
            ]
          },
          "metadata": {
            "needs_background": "light"
          },
          "output_type": "display_data"
        }
      ],
      "source": [
        "clf_c = CatBoostClassifier(iterations=2000,verbose=0,learning_rate=0.08,random_state=0)\n",
        "y_pred_c=model(clf_c,x__train,y__train,x_test,y_test)                        "
      ]
    },
    {
      "cell_type": "markdown",
      "metadata": {
        "id": "_eLkT74cXv_H"
      },
      "source": [
        "class 1 and class 3 is less than true predicted"
      ]
    },
    {
      "cell_type": "code",
      "execution_count": null,
      "metadata": {
        "id": "KhBxfhuWXv_H"
      },
      "outputs": [],
      "source": [
        "#save model way_2\n",
        "import pickle\n",
        "pickle.dump(clf_c, open('D:/studies/depi/ottawa/gp/coding/catboost_.sav','wb'))"
      ]
    },
    {
      "cell_type": "code",
      "execution_count": null,
      "metadata": {
        "id": "XVau12t6Xv_I"
      },
      "outputs": [],
      "source": [
        "#load model way_2\n",
        "loaded_model=pickle.load(open('D:/studies/depi/ottawa/gp/coding/catboost_.sav', 'rb'))"
      ]
    },
    {
      "cell_type": "markdown",
      "metadata": {
        "id": "V1g6CbEmXv_I"
      },
      "source": [
        "# deployment"
      ]
    },
    {
      "cell_type": "code",
      "execution_count": null,
      "metadata": {
        "id": "L9It2oavXv_I",
        "outputId": "246697a4-0a0d-4278-832b-b59bb35f2cf3"
      },
      "outputs": [
        {
          "name": "stdout",
          "output_type": "stream",
          "text": [
            " * Serving Flask app \"__main__\" (lazy loading)\n",
            " * Environment: production\n",
            "   WARNING: This is a development server. Do not use it in a production deployment.\n",
            "   Use a production WSGI server instead.\n",
            " * Debug mode: off\n"
          ]
        },
        {
          "name": "stderr",
          "output_type": "stream",
          "text": [
            " * Running on http://127.0.0.1:5000/ (Press CTRL+C to quit)\n",
            "127.0.0.1 - - [02/Mar/2022 23:38:23] \"\u001b[37mGET / HTTP/1.1\u001b[0m\" 200 -\n",
            "127.0.0.1 - - [02/Mar/2022 23:38:28] \"\u001b[37mPOST /predict HTTP/1.1\u001b[0m\" 200 -\n"
          ]
        }
      ],
      "source": [
        "from flask import Flask, request, jsonify, render_template\n",
        "flask_app = Flask(__name__)\n",
        "loaded_model=pickle.load(open('D:/studies/depi/ottawa/gp/coding/catboost_.sav', 'rb'))\n",
        "@flask_app.route(\"/\")\n",
        "def Home():\n",
        "#    return render_template(\"index.html\")\n",
        "    return render_template(\"D:/studies/depi/ottawa/gp/coding/ind.html\")\n",
        "@flask_app.route(\"/predict\", methods = [\"POST\"])\n",
        "def predict():\n",
        "    ECG__features=[]\n",
        "    features_ECG=[]\n",
        "    ECG_features = [str(x) for x in request.form.values()]\n",
        "    features=ECG_features[0].split(\" \")\n",
        "    for a in features:\n",
        "        ECG__features.append(float(a))\n",
        "    prediction = loaded_model.predict(ECG__features)\n",
        "    return render_template(\"D:/studies/depi/ottawa/gp/coding/ind.html\", prediction_ECG = \"class of ECG is {}\".format(prediction))\n",
        "if __name__ == \"__main__\":\n",
        "    flask_app.run()"
      ]
    },
    {
      "cell_type": "markdown",
      "metadata": {
        "id": "QrgHUpDFXv_J"
      },
      "source": [
        "# applying CNN model"
      ]
    },
    {
      "cell_type": "code",
      "execution_count": null,
      "metadata": {
        "id": "x5z09CCTXv_J"
      },
      "outputs": [],
      "source": [
        "#import libraries\n",
        "import tensorflow\n",
        "from keras.models import Sequential\n",
        "from keras.models import load_model\n",
        "from keras import layers, models\n",
        "from keras.layers import Conv1D,MaxPooling1D,Flatten,BatchNormalization, Dense\n",
        "from keras.utils.np_utils import to_categorical\n",
        "from keras.callbacks import EarlyStopping"
      ]
    },
    {
      "cell_type": "code",
      "execution_count": null,
      "metadata": {
        "id": "B-QZRadnXv_J",
        "outputId": "555aa95a-5e21-4bb7-9f4b-2fca25308f0e"
      },
      "outputs": [
        {
          "name": "stdout",
          "output_type": "stream",
          "text": [
            "training after oversampling (362355, 187)\n",
            "classes in training after oversampling (362355,)\n",
            "testing (21892, 187)\n",
            "classes in testing (21892,)\n"
          ]
        }
      ],
      "source": [
        "#print shape x_train,x_test,y_train,y_test\n",
        "print(\"training after oversampling\",x__train.shape)\n",
        "print(\"classes in training after oversampling\",y__train.shape)\n",
        "print(\"testing\",x_test.shape)\n",
        "print(\"classes in testing\",y_test.shape)"
      ]
    },
    {
      "cell_type": "code",
      "execution_count": null,
      "metadata": {
        "id": "7u_dEarhXv_J"
      },
      "outputs": [],
      "source": [
        "#convert to numpy array\n",
        "def conv_array(x__train,y__train,x_test,y_test):\n",
        "    x___train=np.array(x__train)\n",
        "    y___train=np.array(y__train)\n",
        "    y___train =to_categorical(y___train, 5)\n",
        "    x___test=np.array(x_test)\n",
        "    y___test=np.array(y_test)\n",
        "    y___test =to_categorical(y___test, 5)\n",
        "    return x___train,y___train,x___test,y___test"
      ]
    },
    {
      "cell_type": "code",
      "execution_count": null,
      "metadata": {
        "id": "vJp4lMDqXv_K"
      },
      "outputs": [],
      "source": [
        "#call convert function\n",
        "x___train,y___train,x___test,y___test=conv_array(x__train,y__train,x_test,y_test)"
      ]
    },
    {
      "cell_type": "code",
      "execution_count": null,
      "metadata": {
        "id": "EGPBCx5KXv_K"
      },
      "outputs": [],
      "source": [
        "#reshape training and testing data\n",
        "def Reshape_train_test(x__train,x__test):\n",
        "    x__train=x__train.reshape(len(x__train), x__train.shape[1], 1)\n",
        "    x__test=x__test.reshape(len(x__test), x__test.shape[1], 1)\n",
        "    return x__train,x__test"
      ]
    },
    {
      "cell_type": "code",
      "execution_count": null,
      "metadata": {
        "id": "yX2QNRSlXv_K"
      },
      "outputs": [],
      "source": [
        "#call Reshape function\n",
        "x___train,x___test=Reshape_train_test(x___train,x___test)"
      ]
    },
    {
      "cell_type": "code",
      "execution_count": null,
      "metadata": {
        "id": "zST1CFYOXv_K",
        "outputId": "76e0f62d-4355-42cd-87db-a54c0c1dc25b"
      },
      "outputs": [
        {
          "name": "stdout",
          "output_type": "stream",
          "text": [
            "training after oversampling after reshaping (362355, 187, 1)\n",
            "classes in training after oversampling (362355, 5)\n",
            "testing after reshaping (21892, 187, 1)\n",
            "classes in testing (21892, 5)\n"
          ]
        }
      ],
      "source": [
        "#print shape training and testing data\n",
        "print(\"training after oversampling after reshaping\",x___train.shape)\n",
        "print(\"classes in training after oversampling\",y___train.shape)\n",
        "print(\"testing after reshaping\",x___test.shape)\n",
        "print(\"classes in testing\",y___test.shape)"
      ]
    },
    {
      "cell_type": "code",
      "execution_count": null,
      "metadata": {
        "id": "LUNYZILnXv_K"
      },
      "outputs": [],
      "source": [
        "def model_cnn():\n",
        "#    set_random_seed(1)\n",
        "    model=Sequential()\n",
        "    model.add(Conv1D(filters=64, kernel_size=(6,), activation='relu', padding='same', input_shape=(187, 1)))\n",
        "    model.add(BatchNormalization())\n",
        "    model.add(MaxPooling1D(pool_size=(3,), strides=2, padding='same'))\n",
        "    model.add(Conv1D(filters=64, kernel_size=(6,), activation='relu', padding='same', input_shape=(187, 1)))\n",
        "    model.add(BatchNormalization())\n",
        "    model.add(MaxPooling1D(pool_size=(3,), strides=2, padding='same'))\n",
        "    model.add(Conv1D(filters=64, kernel_size=(6,), activation='relu',padding='same', input_shape=(187, 1)))\n",
        "    model.add(BatchNormalization())\n",
        "    model.add(MaxPooling1D(pool_size=(3,), strides=2, padding='same'))\n",
        "    model.add(Flatten())\n",
        "    model.add(Dense(64, activation='relu'))\n",
        "    model.add(Dense(64, activation='relu'))\n",
        "    model.add(Dense(5, activation='softmax'))\n",
        "    model.compile(optimizer='adam',loss='categorical_crossentropy',metrics=['accuracy'])\n",
        "    return model"
      ]
    },
    {
      "cell_type": "code",
      "execution_count": null,
      "metadata": {
        "id": "fzlfqrzxXv_L",
        "outputId": "c7cd2b3f-e377-4383-fbaa-4f9d7e545dfe"
      },
      "outputs": [
        {
          "name": "stdout",
          "output_type": "stream",
          "text": [
            "Model: \"sequential_7\"\n",
            "_________________________________________________________________\n",
            " Layer (type)                Output Shape              Param #   \n",
            "=================================================================\n",
            " conv1d_17 (Conv1D)          (None, 187, 64)           448       \n",
            "                                                                 \n",
            " batch_normalization_15 (Bat  (None, 187, 64)          256       \n",
            " chNormalization)                                                \n",
            "                                                                 \n",
            " max_pooling1d_15 (MaxPoolin  (None, 94, 64)           0         \n",
            " g1D)                                                            \n",
            "                                                                 \n",
            " conv1d_18 (Conv1D)          (None, 94, 64)            24640     \n",
            "                                                                 \n",
            " batch_normalization_16 (Bat  (None, 94, 64)           256       \n",
            " chNormalization)                                                \n",
            "                                                                 \n",
            " max_pooling1d_16 (MaxPoolin  (None, 47, 64)           0         \n",
            " g1D)                                                            \n",
            "                                                                 \n",
            " conv1d_19 (Conv1D)          (None, 47, 64)            24640     \n",
            "                                                                 \n",
            " batch_normalization_17 (Bat  (None, 47, 64)           256       \n",
            " chNormalization)                                                \n",
            "                                                                 \n",
            " max_pooling1d_17 (MaxPoolin  (None, 24, 64)           0         \n",
            " g1D)                                                            \n",
            "                                                                 \n",
            " flatten_5 (Flatten)         (None, 1536)              0         \n",
            "                                                                 \n",
            " dense_15 (Dense)            (None, 64)                98368     \n",
            "                                                                 \n",
            " dense_16 (Dense)            (None, 64)                4160      \n",
            "                                                                 \n",
            " dense_17 (Dense)            (None, 5)                 325       \n",
            "                                                                 \n",
            "=================================================================\n",
            "Total params: 153,349\n",
            "Trainable params: 152,965\n",
            "Non-trainable params: 384\n",
            "_________________________________________________________________\n"
          ]
        }
      ],
      "source": [
        "model_cnn=model_cnn()\n",
        "model_cnn.summary()"
      ]
    },
    {
      "cell_type": "code",
      "execution_count": null,
      "metadata": {
        "id": "6kHSJq4HXv_L",
        "outputId": "7e1ee696-9757-4fc3-f886-d6478fd2acfe"
      },
      "outputs": [
        {
          "name": "stdout",
          "output_type": "stream",
          "text": [
            "conv1d_17\n",
            "batch_normalization_15\n",
            "max_pooling1d_15\n",
            "conv1d_18\n",
            "batch_normalization_16\n",
            "max_pooling1d_16\n",
            "conv1d_19\n",
            "batch_normalization_17\n",
            "max_pooling1d_17\n",
            "flatten_5\n",
            "dense_15\n",
            "dense_16\n",
            "dense_17\n"
          ]
        }
      ],
      "source": [
        "#print layer name\n",
        "for layer in model_cnn.layers:\n",
        "  print(layer.name)"
      ]
    },
    {
      "cell_type": "code",
      "execution_count": null,
      "metadata": {
        "id": "3YJbM-UlXv_L",
        "outputId": "3e9aee41-c146-43ff-dd93-7e5d51c80cb0"
      },
      "outputs": [
        {
          "name": "stdout",
          "output_type": "stream",
          "text": [
            "conv1d_17 (6, 1, 64)\n",
            "conv1d_18 (6, 64, 64)\n",
            "conv1d_19 (6, 64, 64)\n"
          ]
        }
      ],
      "source": [
        "#print name layer and shape filter\n",
        "layer__name=[]\n",
        "for layer in model_cnn.layers:\n",
        "    if 'conv' not in layer.name:\n",
        "        continue\n",
        "    layer__name.append((layer.name))\n",
        "    filters_layer, biases_layer = layer.get_weights()\n",
        "    print(layer.name, filters_layer.shape)"
      ]
    },
    {
      "cell_type": "code",
      "execution_count": null,
      "metadata": {
        "id": "Cj6L_Lf4Xv_M",
        "outputId": "cf7aae1f-9dde-4822-953d-2fc7251d8a34"
      },
      "outputs": [
        {
          "name": "stdout",
          "output_type": "stream",
          "text": [
            "Epoch 1/10\n",
            "7248/7248 [==============================] - 497s 68ms/step - loss: 0.0837 - accuracy: 0.9711 - val_loss: 0.0774 - val_accuracy: 0.9826\n",
            "Epoch 2/10\n",
            "7248/7248 [==============================] - 526s 73ms/step - loss: 0.0320 - accuracy: 0.9896 - val_loss: 0.1072 - val_accuracy: 0.9767\n",
            "Epoch 3/10\n",
            "7248/7248 [==============================] - 499s 69ms/step - loss: 0.0222 - accuracy: 0.9930 - val_loss: 0.0936 - val_accuracy: 0.9785\n",
            "Epoch 4/10\n",
            "7248/7248 [==============================] - 500s 69ms/step - loss: 0.0169 - accuracy: 0.9946 - val_loss: 0.0986 - val_accuracy: 0.9806\n",
            "Epoch 5/10\n",
            "7248/7248 [==============================] - 541s 75ms/step - loss: 0.0134 - accuracy: 0.9959 - val_loss: 0.1012 - val_accuracy: 0.9808\n",
            "Epoch 6/10\n",
            "7248/7248 [==============================] - 542s 75ms/step - loss: 0.0114 - accuracy: 0.9964 - val_loss: 0.0985 - val_accuracy: 0.9840\n",
            "Epoch 7/10\n",
            "7248/7248 [==============================] - 503s 69ms/step - loss: 0.0096 - accuracy: 0.9971 - val_loss: 0.1034 - val_accuracy: 0.9823\n",
            "Epoch 8/10\n",
            "7248/7248 [==============================] - 524s 72ms/step - loss: 0.0088 - accuracy: 0.9973 - val_loss: 0.1157 - val_accuracy: 0.9813\n",
            "Epoch 9/10\n",
            "7248/7248 [==============================] - 514s 71ms/step - loss: 0.0078 - accuracy: 0.9976 - val_loss: 0.1432 - val_accuracy: 0.9755\n",
            "Epoch 10/10\n",
            "7248/7248 [==============================] - 534s 74ms/step - loss: 0.0069 - accuracy: 0.9979 - val_loss: 0.1165 - val_accuracy: 0.9836\n"
          ]
        }
      ],
      "source": [
        "#fit cnn model\n",
        "#es=EarlyStopping(monitor='val_loss', mode='min', verbose=1,patience=5)\n",
        "result_cnn=model_cnn.fit(x___train,y___train,epochs=10,batch_size=50,validation_data=(x___test, y___test))"
      ]
    },
    {
      "cell_type": "code",
      "execution_count": null,
      "metadata": {
        "id": "JHNBPCLIXv_M",
        "outputId": "8bb6982f-2d53-4794-e44c-4126ff9abd1c"
      },
      "outputs": [
        {
          "name": "stdout",
          "output_type": "stream",
          "text": [
            "685/685 [==============================] - 6s 9ms/step - loss: 0.1165 - accuracy: 0.9836\n",
            "Test loss: 0.11646588146686554\n",
            "Test accuracy: 0.9836469888687134\n"
          ]
        }
      ],
      "source": [
        "#evaluate cnn model\n",
        "test_score_cnn = model_cnn.evaluate(x___test, y___test,verbose=1)\n",
        "print('Test loss:', test_score_cnn[0])\n",
        "print('Test accuracy:', test_score_cnn[1])"
      ]
    },
    {
      "cell_type": "code",
      "execution_count": null,
      "metadata": {
        "id": "FscxreECXv_M",
        "outputId": "563db7b0-8f5b-452b-84b2-7f38cb30ec42"
      },
      "outputs": [
        {
          "data": {
            "text/plain": [
              "Text(0, 0.5, 'Losses')"
            ]
          },
          "execution_count": 105,
          "metadata": {},
          "output_type": "execute_result"
        },
        {
          "data": {
            "image/png": "[encoded data removed]",
            "text/plain": [
              "<Figure size 432x288 with 1 Axes>"
            ]
          },
          "metadata": {
            "needs_background": "light"
          },
          "output_type": "display_data"
        }
      ],
      "source": [
        "#plot loss in traning and testing \n",
        "epochs = range(1, len(result_cnn.history['val_loss']) + 1)\n",
        "plt.plot(epochs,result_cnn.history['loss'])\n",
        "plt.plot(epochs,result_cnn.history['val_loss'])\n",
        "plt.legend(['Training', 'Testing'])\n",
        "plt.title('Training and Testing Losses')\n",
        "plt.xlabel('epoch')\n",
        "plt.ylabel('Losses')"
      ]
    },
    {
      "cell_type": "code",
      "execution_count": null,
      "metadata": {
        "id": "JvXcygefXv_N",
        "outputId": "9208475f-303b-494b-ea38-be37e9ff3cb0"
      },
      "outputs": [
        {
          "data": {
            "text/plain": [
              "Text(0, 0.5, 'accuracy')"
            ]
          },
          "execution_count": 106,
          "metadata": {},
          "output_type": "execute_result"
        },
        {
          "data": {
            "image/png": "[encoded data removed]",
            "text/plain": [
              "<Figure size 432x288 with 1 Axes>"
            ]
          },
          "metadata": {
            "needs_background": "light"
          },
          "output_type": "display_data"
        }
      ],
      "source": [
        "#plot accuracy in traning and testing \n",
        "plt.plot(epochs,result_cnn.history['accuracy'])\n",
        "plt.plot(epochs,result_cnn.history['val_accuracy'])\n",
        "plt.legend(['Training', 'Testing'])\n",
        "plt.title('Training and Testing accuracy')\n",
        "plt.xlabel('epoch')\n",
        "plt.ylabel('accuracy')"
      ]
    },
    {
      "cell_type": "code",
      "execution_count": null,
      "metadata": {
        "id": "xgVxvZNmXv_N",
        "outputId": "852e6e09-5c03-4953-baa0-0ccc43af3612"
      },
      "outputs": [
        {
          "data": {
            "text/plain": [
              "<matplotlib.legend.Legend at 0x1e167524be0>"
            ]
          },
          "execution_count": 107,
          "metadata": {},
          "output_type": "execute_result"
        },
        {
          "data": {
            "image/png": "[encoded data removed]",
            "text/plain": [
              "<Figure size 720x360 with 1 Axes>"
            ]
          },
          "metadata": {
            "needs_background": "light"
          },
          "output_type": "display_data"
        }
      ],
      "source": [
        "#plt.figure(figsize=(10, 5))\n",
        "#plt.title('Training and testing Accuracy')\n",
        "#plt.xlabel('Epochs')\n",
        "#plt.ylabel('Accuracy')\n",
        "#plt.plot(epochs,result_cnn.history['accuracy'], label='training')\n",
        "#plt.plot(epochs,result_cnn.history['val_accuracy'], label='testing')\n",
        "#plt.legend()"
      ]
    },
    {
      "cell_type": "code",
      "execution_count": null,
      "metadata": {
        "id": "D-_fNKIJXv_N"
      },
      "outputs": [],
      "source": [
        "#predit x_test\n",
        "def pred(model_cnn,x___test,y___test):\n",
        "    y_pred_cnn=model_cnn.predict(x___test)\n",
        "    y__pred__cnn=np.argmax(y_pred_cnn, axis=1)\n",
        "    y_true_cnn=np.argmax(y___test,axis=1)\n",
        "    print(\"predict label unique\",np.unique(y__pred__cnn))\n",
        "    print(\"true label unique\",np.unique(y_true_cnn))\n",
        "    print(\"accuracy for cnn model\",accuracy_score(y_true_cnn, y__pred__cnn)*100)\n",
        "    print(\"f1_score for catBoost for each class \",f1_score(y_true_cnn, y__pred__cnn, average=None))\n",
        "    print(\"f1_score for catBoost by micro \",f1_score(y_true_cnn, y__pred__cnn, average='micro'))\n",
        "    print(\"f1_score for catBoost by weighted \",f1_score(y_true_cnn, y__pred__cnn, average='weighted'))\n",
        "    cm_cnn=ConfusionMatrixDisplay(confusion_matrix=confusion_matrix(y_true_cnn,y__pred__cnn))\n",
        "    cm_cnn.plot()\n",
        "    return y__pred__cnn"
      ]
    },
    {
      "cell_type": "code",
      "execution_count": null,
      "metadata": {
        "id": "3B_9H2S6Xv_O",
        "outputId": "4067c1ab-a2d6-4b8a-b442-57d9c1d6c55b"
      },
      "outputs": [
        {
          "name": "stdout",
          "output_type": "stream",
          "text": [
            "predict label unique [0 1 2 3 4]\n",
            "true label unique [0 1 2 3 4]\n",
            "accuracy for cnn model 98.36469943358304\n",
            "f1_score for catBoost for each class  [0.99168899 0.83185841 0.95997215 0.77871148 0.99033365]\n",
            "f1_score for catBoost by micro  0.9836469943358305\n",
            "f1_score for catBoost by weighted  0.9838562836372347\n"
          ]
        },
        {
          "data": {
            "image/png": "[encoded data removed]",
            "text/plain": [
              "<Figure size 432x288 with 2 Axes>"
            ]
          },
          "metadata": {
            "needs_background": "light"
          },
          "output_type": "display_data"
        }
      ],
      "source": [
        "#call function prediction\n",
        "y__pred__cnn=pred(model_cnn,x___test,y___test)"
      ]
    },
    {
      "cell_type": "code",
      "execution_count": null,
      "metadata": {
        "id": "NhC952uxXv_O"
      },
      "outputs": [],
      "source": [
        "#save model cnn\n",
        "model_cnn.save('D:/studies/depi/ottawa/gp/coding/cnn.h5')"
      ]
    }
  ],
  "metadata": {
    "kernelspec": {
      "display_name": "Python 3",
      "language": "python",
      "name": "python3"
    },
    "language_info": {
      "codemirror_mode": {
        "name": "ipython",
        "version": 3
      },
      "file_extension": ".py",
      "mimetype": "text/x-python",
      "name": "python",
      "nbconvert_exporter": "python",
      "pygments_lexer": "ipython3",
      "version": "3.8.3"
    },
    "colab": {
      "name": "gp2.ipynb",
      "provenance": [],
      "collapsed_sections": []
    }
  },
  "nbformat": 4,
  "nbformat_minor": 0
}